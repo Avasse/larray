{
 "metadata": {
  "name": "",
  "signature": "sha256:d7bfca5cf09cb2201dfc58bd1f3432bdb17b6a298330e774f5b6e5bb7c042b09"
 },
 "nbformat": 3,
 "nbformat_minor": 0,
 "worksheets": [
  {
   "cells": [
    {
     "cell_type": "code",
     "collapsed": false,
     "input": [
      "from larray import *"
     ],
     "language": "python",
     "metadata": {},
     "outputs": [],
     "prompt_number": 1
    },
    {
     "cell_type": "code",
     "collapsed": false,
     "input": [
      "age = Axis('age', ':115')"
     ],
     "language": "python",
     "metadata": {},
     "outputs": [],
     "prompt_number": 2
    },
    {
     "cell_type": "code",
     "collapsed": false,
     "input": [
      "vla = 'A11,A12,A13,A23,A24,A31,A32,A33,A34,A35,A36,A37,A38,A41,A42,' \\\n",
      "      'A43,A44,A45,A46,A71,A72,A73'\n",
      "wal = 'A25,A51,A52,A53,A54,A55,A56,A57,A61,A62,A63,A64,A65,A81,A82,' \\\n",
      "      'A83,A84,A85,A91,A92,A93'\n",
      "bru = 'A21'"
     ],
     "language": "python",
     "metadata": {},
     "outputs": [],
     "prompt_number": 3
    },
    {
     "cell_type": "code",
     "collapsed": false,
     "input": [
      "belgium = union(vla, wal, bru)"
     ],
     "language": "python",
     "metadata": {},
     "outputs": [],
     "prompt_number": 4
    },
    {
     "cell_type": "code",
     "collapsed": false,
     "input": [
      "geo = Axis('geo', belgium)"
     ],
     "language": "python",
     "metadata": {},
     "outputs": [],
     "prompt_number": 5
    },
    {
     "cell_type": "code",
     "collapsed": false,
     "input": [
      "sex = Axis('sex', 'H,F')"
     ],
     "language": "python",
     "metadata": {},
     "outputs": [],
     "prompt_number": 6
    },
    {
     "cell_type": "code",
     "collapsed": false,
     "input": [
      "lipro = Axis('lipro', ['P%02d' % i for i in range(1, 16)])"
     ],
     "language": "python",
     "metadata": {},
     "outputs": [],
     "prompt_number": 7
    },
    {
     "cell_type": "code",
     "collapsed": false,
     "input": [
      "a = zeros([age, geo, sex, lipro])"
     ],
     "language": "python",
     "metadata": {},
     "outputs": [],
     "prompt_number": 8
    },
    {
     "cell_type": "code",
     "collapsed": false,
     "input": [
      "a.info"
     ],
     "language": "python",
     "metadata": {},
     "outputs": [
      {
       "metadata": {},
       "output_type": "pyout",
       "prompt_number": 9,
       "text": [
        "116 x 44 x 2 x 15\n",
        " age [116]: '0' '1' '2' ... '113' '114' '115'\n",
        " geo [44]: 'A11' 'A12' 'A13' ... 'A92' 'A93' 'A21'\n",
        " sex [2]: 'H' 'F'\n",
        " lipro [15]: 'P01' 'P02' 'P03' ... 'P13' 'P14' 'P15'"
       ]
      }
     ],
     "prompt_number": 9
    },
    {
     "cell_type": "code",
     "collapsed": false,
     "input": [
      "a.nbytes"
     ],
     "language": "python",
     "metadata": {},
     "outputs": [
      {
       "metadata": {},
       "output_type": "pyout",
       "prompt_number": 10,
       "text": [
        "1224960"
       ]
      }
     ],
     "prompt_number": 10
    },
    {
     "cell_type": "code",
     "collapsed": false,
     "input": [
      "a"
     ],
     "language": "python",
     "metadata": {},
     "outputs": [
      {
       "metadata": {},
       "output_type": "pyout",
       "prompt_number": 11,
       "text": [
        "\n",
        "age | geo | sex\\lipro | P01 | P02 | P03 | ... | P13 | P14 | P15\n",
        "  0 | A11 |         H | 0.0 | 0.0 | 0.0 | ... | 0.0 | 0.0 | 0.0\n",
        "  0 | A11 |         F | 0.0 | 0.0 | 0.0 | ... | 0.0 | 0.0 | 0.0\n",
        "  0 | A12 |         H | 0.0 | 0.0 | 0.0 | ... | 0.0 | 0.0 | 0.0\n",
        "  0 | A12 |         F | 0.0 | 0.0 | 0.0 | ... | 0.0 | 0.0 | 0.0\n",
        "  0 | A13 |         H | 0.0 | 0.0 | 0.0 | ... | 0.0 | 0.0 | 0.0\n",
        "... | ... |       ... | ... | ... | ... | ... | ... | ... | ...\n",
        "115 | A92 |         F | 0.0 | 0.0 | 0.0 | ... | 0.0 | 0.0 | 0.0\n",
        "115 | A93 |         H | 0.0 | 0.0 | 0.0 | ... | 0.0 | 0.0 | 0.0\n",
        "115 | A93 |         F | 0.0 | 0.0 | 0.0 | ... | 0.0 | 0.0 | 0.0\n",
        "115 | A21 |         H | 0.0 | 0.0 | 0.0 | ... | 0.0 | 0.0 | 0.0\n",
        "115 | A21 |         F | 0.0 | 0.0 | 0.0 | ... | 0.0 | 0.0 | 0.0"
       ]
      }
     ],
     "prompt_number": 11
    },
    {
     "cell_type": "code",
     "collapsed": false,
     "input": [
      "a[:] = np.random.random(a.shape)"
     ],
     "language": "python",
     "metadata": {},
     "outputs": [],
     "prompt_number": 12
    },
    {
     "cell_type": "code",
     "collapsed": false,
     "input": [
      "a"
     ],
     "language": "python",
     "metadata": {},
     "outputs": [
      {
       "metadata": {},
       "output_type": "pyout",
       "prompt_number": 13,
       "text": [
        "\n",
        "age | geo | sex\\lipro |               P01 |             P02 | ... |             P14 |            P15\n",
        "  0 | A11 |         H |    0.668854422352 | 0.0376059619919 | ... |  0.686858789035 |  0.30979163783\n",
        "  0 | A11 |         F |     0.75855248304 |  0.693872979814 | ... |  0.383254159452 | 0.793161211607\n",
        "  0 | A12 |         H |    0.314309233292 |  0.563827719724 | ... |  0.262676449687 | 0.471763401789\n",
        "  0 | A12 |         F |    0.417450209563 |  0.149372133885 | ... |  0.842063762991 | 0.402515717551\n",
        "  0 | A13 |         H |    0.188513450344 |  0.936639641599 | ... |  0.537113369216 | 0.166630231969\n",
        "... | ... |       ... |               ... |             ... | ... |             ... |            ...\n",
        "115 | A92 |         F |    0.327695671322 |  0.572358110697 | ... |  0.433911655829 | 0.761581111946\n",
        "115 | A93 |         H |    0.177279668293 |  0.710137592292 | ... |  0.830251021661 | 0.981382475774\n",
        "115 | A93 |         F | 0.000884998592067 |  0.838716214915 | ... | 0.0662629828389 | 0.559637960433\n",
        "115 | A21 |         H |    0.886919131513 |  0.356640301942 | ... |  0.363741993326 | 0.528099559253\n",
        "115 | A21 |         F |    0.445025411768 |  0.036338797045 | ... |  0.336746572464 | 0.804422784704"
       ]
      }
     ],
     "prompt_number": 13
    },
    {
     "cell_type": "code",
     "collapsed": false,
     "input": [
      "a.to_csv('test.csv')"
     ],
     "language": "python",
     "metadata": {},
     "outputs": [],
     "prompt_number": 14
    },
    {
     "cell_type": "code",
     "collapsed": false,
     "input": [],
     "language": "python",
     "metadata": {},
     "outputs": [],
     "prompt_number": 14
    }
   ],
   "metadata": {}
  }
 ]
}