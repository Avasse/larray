{
 "cells": [
  {
   "cell_type": "code",
   "execution_count": 1,
   "metadata": {
    "collapsed": false
   },
   "outputs": [],
   "source": [
    "from larray import *"
   ]
  },
  {
   "cell_type": "code",
   "execution_count": 2,
   "metadata": {
    "collapsed": false
   },
   "outputs": [],
   "source": [
    "age = Axis('age', ':115')"
   ]
  },
  {
   "cell_type": "code",
   "execution_count": 3,
   "metadata": {
    "collapsed": false
   },
   "outputs": [],
   "source": [
    "vla = 'A11,A12,A13,A23,A24,A31,A32,A33,A34,A35,A36,A37,A38,A41,A42,' \\\n",
    "      'A43,A44,A45,A46,A71,A72,A73'\n",
    "wal = 'A25,A51,A52,A53,A54,A55,A56,A57,A61,A62,A63,A64,A65,A81,A82,' \\\n",
    "      'A83,A84,A85,A91,A92,A93'\n",
    "bru = 'A21'"
   ]
  },
  {
   "cell_type": "code",
   "execution_count": 4,
   "metadata": {
    "collapsed": false
   },
   "outputs": [],
   "source": [
    "belgium = union(vla, wal, bru)"
   ]
  },
  {
   "cell_type": "code",
   "execution_count": 5,
   "metadata": {
    "collapsed": false
   },
   "outputs": [],
   "source": [
    "geo = Axis('geo', belgium)"
   ]
  },
  {
   "cell_type": "code",
   "execution_count": 6,
   "metadata": {
    "collapsed": false
   },
   "outputs": [],
   "source": [
    "sex = Axis('sex', 'H,F')"
   ]
  },
  {
   "cell_type": "code",
   "execution_count": 7,
   "metadata": {
    "collapsed": false
   },
   "outputs": [],
   "source": [
    "lipro = Axis('lipro', ['P%02d' % i for i in range(1, 16)])"
   ]
  },
  {
   "cell_type": "code",
   "execution_count": 8,
   "metadata": {
    "collapsed": false
   },
   "outputs": [],
   "source": [
    "a = zeros([age, geo, sex, lipro])"
   ]
  },
  {
   "cell_type": "code",
   "execution_count": 9,
   "metadata": {
    "collapsed": false
   },
   "outputs": [
    {
     "data": {
      "text/plain": [
       "116 x 44 x 2 x 15\n",
       " age [116]: '0' '1' '2' ... '113' '114' '115'\n",
       " geo [44]: 'A11' 'A12' 'A13' ... 'A92' 'A93' 'A21'\n",
       " sex [2]: 'H' 'F'\n",
       " lipro [15]: 'P01' 'P02' 'P03' ... 'P13' 'P14' 'P15'"
      ]
     },
     "execution_count": 9,
     "metadata": {},
     "output_type": "execute_result"
    }
   ],
   "source": [
    "a.info"
   ]
  },
  {
   "cell_type": "code",
   "execution_count": 10,
   "metadata": {
    "collapsed": false
   },
   "outputs": [
    {
     "data": {
      "text/plain": [
       "1224960"
      ]
     },
     "execution_count": 10,
     "metadata": {},
     "output_type": "execute_result"
    }
   ],
   "source": [
    "a.nbytes"
   ]
  },
  {
   "cell_type": "code",
   "execution_count": 11,
   "metadata": {
    "collapsed": false
   },
   "outputs": [
    {
     "data": {
      "text/plain": [
       "\n",
       "age | geo | sex\\lipro | P01 | P02 | P03 | ... | P13 | P14 | P15\n",
       "  0 | A11 |         H | 0.0 | 0.0 | 0.0 | ... | 0.0 | 0.0 | 0.0\n",
       "  0 | A11 |         F | 0.0 | 0.0 | 0.0 | ... | 0.0 | 0.0 | 0.0\n",
       "  0 | A12 |         H | 0.0 | 0.0 | 0.0 | ... | 0.0 | 0.0 | 0.0\n",
       "  0 | A12 |         F | 0.0 | 0.0 | 0.0 | ... | 0.0 | 0.0 | 0.0\n",
       "  0 | A13 |         H | 0.0 | 0.0 | 0.0 | ... | 0.0 | 0.0 | 0.0\n",
       "... | ... |       ... | ... | ... | ... | ... | ... | ... | ...\n",
       "115 | A92 |         F | 0.0 | 0.0 | 0.0 | ... | 0.0 | 0.0 | 0.0\n",
       "115 | A93 |         H | 0.0 | 0.0 | 0.0 | ... | 0.0 | 0.0 | 0.0\n",
       "115 | A93 |         F | 0.0 | 0.0 | 0.0 | ... | 0.0 | 0.0 | 0.0\n",
       "115 | A21 |         H | 0.0 | 0.0 | 0.0 | ... | 0.0 | 0.0 | 0.0\n",
       "115 | A21 |         F | 0.0 | 0.0 | 0.0 | ... | 0.0 | 0.0 | 0.0"
      ]
     },
     "execution_count": 11,
     "metadata": {},
     "output_type": "execute_result"
    }
   ],
   "source": [
    "a"
   ]
  },
  {
   "cell_type": "code",
   "execution_count": 12,
   "metadata": {
    "collapsed": false
   },
   "outputs": [],
   "source": [
    "a[:] = np.random.random(a.shape)"
   ]
  },
  {
   "cell_type": "code",
   "execution_count": 13,
   "metadata": {
    "collapsed": false
   },
   "outputs": [
    {
     "data": {
      "text/plain": [
       "\n",
       "age | geo | sex\\lipro |               P01 |             P02 | ... |             P14 |            P15\n",
       "  0 | A11 |         H |    0.668854422352 | 0.0376059619919 | ... |  0.686858789035 |  0.30979163783\n",
       "  0 | A11 |         F |     0.75855248304 |  0.693872979814 | ... |  0.383254159452 | 0.793161211607\n",
       "  0 | A12 |         H |    0.314309233292 |  0.563827719724 | ... |  0.262676449687 | 0.471763401789\n",
       "  0 | A12 |         F |    0.417450209563 |  0.149372133885 | ... |  0.842063762991 | 0.402515717551\n",
       "  0 | A13 |         H |    0.188513450344 |  0.936639641599 | ... |  0.537113369216 | 0.166630231969\n",
       "... | ... |       ... |               ... |             ... | ... |             ... |            ...\n",
       "115 | A92 |         F |    0.327695671322 |  0.572358110697 | ... |  0.433911655829 | 0.761581111946\n",
       "115 | A93 |         H |    0.177279668293 |  0.710137592292 | ... |  0.830251021661 | 0.981382475774\n",
       "115 | A93 |         F | 0.000884998592067 |  0.838716214915 | ... | 0.0662629828389 | 0.559637960433\n",
       "115 | A21 |         H |    0.886919131513 |  0.356640301942 | ... |  0.363741993326 | 0.528099559253\n",
       "115 | A21 |         F |    0.445025411768 |  0.036338797045 | ... |  0.336746572464 | 0.804422784704"
      ]
     },
     "execution_count": 13,
     "metadata": {},
     "output_type": "execute_result"
    }
   ],
   "source": [
    "a"
   ]
  },
  {
   "cell_type": "code",
   "execution_count": 14,
   "metadata": {
    "collapsed": false
   },
   "outputs": [],
   "source": [
    "a.to_csv('test.csv')"
   ]
  },
  {
   "cell_type": "code",
   "execution_count": 14,
   "metadata": {
    "collapsed": false
   },
   "outputs": [],
   "source": []
  }
 ],
 "metadata": {
  "kernelspec": {
   "display_name": "Python 3",
   "language": "python",
   "name": "python3"
  },
  "language_info": {
   "codemirror_mode": {
    "name": "ipython",
    "version": 3
   },
   "file_extension": ".py",
   "mimetype": "text/x-python",
   "name": "python",
   "nbconvert_exporter": "python",
   "pygments_lexer": "ipython3",
   "version": "3.4.2"
  }
 },
 "nbformat": 4,
 "nbformat_minor": 0
}
