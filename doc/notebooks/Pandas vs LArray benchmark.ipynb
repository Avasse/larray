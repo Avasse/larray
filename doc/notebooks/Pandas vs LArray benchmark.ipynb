{
 "metadata": {
  "name": "",
  "signature": "sha256:892ecea09999923796a5abfb545ea4ac894dedb91bbbee975e2611fcbcd8b363"
 },
 "nbformat": 3,
 "nbformat_minor": 0,
 "worksheets": [
  {
   "cells": [
    {
     "cell_type": "code",
     "collapsed": false,
     "input": [
      "import pandas as pd"
     ],
     "language": "python",
     "metadata": {},
     "outputs": [],
     "prompt_number": 2
    },
    {
     "cell_type": "code",
     "collapsed": false,
     "input": [
      "df = pd.read_hdf('c:/tmp/rgl_df_fixed.h5', 'rgl')"
     ],
     "language": "python",
     "metadata": {},
     "outputs": [],
     "prompt_number": 3
    },
    {
     "cell_type": "code",
     "collapsed": false,
     "input": [
      "df.index.levels"
     ],
     "language": "python",
     "metadata": {},
     "outputs": [
      {
       "metadata": {},
       "output_type": "pyout",
       "prompt_number": 4,
       "text": [
        "FrozenList([[u'T'], [u'F', u'H'], [u'1519', u'2024', u'2529', u'3034', u'3539', u'4044', u'4549', u'5054', u'5559', u'6064', u'6569', u'7074', u'7599', u'ONBE'], [u'A', u'B', u'D', u'E', u'L', u'M', u'P', u'R', u'U', u'V', u'W', u'X', u'Y', u'Z'], [u'A', u'B', u'F', u'X'], [u'R', u'U'], [u'D', u'I', u'M', u'O', u'V'], [u'G', u'K'], [u'01A1', u'02A1', u'03A1', u'05A1', u'08A1', u'09A1', u'10A1', u'10B1', u'10C1', u'10D1', u'10E1', u'10F1', u'10G1', u'10H1', u'10I1', u'10J1', u'11A1', u'11B1', u'12A1', u'13A1', u'13B1', u'14A1', u'15A1', u'16A1', u'17A1', u'18A1', u'19A1', u'20A1', u'20B1', u'20C1', u'20D1', u'20E1', u'20F1', u'20G1', u'21A1', u'22A1', u'22B1', u'23A1', u'23B1', u'23C1', u'23D1', u'24A1', u'24B1A', u'24B1B', u'24B1C', u'25A1', u'25B1', u'25C1', u'26A1A', u'26A1B', u'26B1A', u'26B1B', u'26C1A', u'26C1B', u'26C1C', u'27A1A', u'27A1B', u'27A1C', u'27B1', u'28A1', u'28B1', u'29A1', u'29B1', u'30A1', u'30B1', u'30C1', u'30D1', u'31A1', u'32A1', u'32B1A', u'32B1B', u'33A1A', u'33A1B', u'35A1', u'35B1', u'36A1', u'37A1', u'37A3', u'38A1', u'38B1', u'39A1', u'41A1A', u'41A1B', u'42A1', u'43A1', u'43B1', u'43C1', u'43D1', u'45A1', u'46A1', u'46B1', u'47A1', u'47B1', u'49A1A', u'49A1B', u'49B1', u'49B3', u'49C1', u'50A1', u'50B1', ...]])"
       ]
      }
     ],
     "prompt_number": 4
    },
    {
     "cell_type": "code",
     "collapsed": false,
     "input": [
      "df.index.names"
     ],
     "language": "python",
     "metadata": {},
     "outputs": [
      {
       "metadata": {},
       "output_type": "pyout",
       "prompt_number": 5,
       "text": [
        "FrozenList([u'geo', u'sex', u'agecat', u'type', u'sector', u'stat', u'contract', u'dim', u'bedrijfstak\\time'])"
       ]
      }
     ],
     "prompt_number": 5
    },
    {
     "cell_type": "code",
     "collapsed": false,
     "input": [
      "timeit df.xs('2024', level='agecat')"
     ],
     "language": "python",
     "metadata": {},
     "outputs": [
      {
       "output_type": "stream",
       "stream": "stdout",
       "text": [
        "10 loops, best of 3: 22.3 ms per loop\n"
       ]
      }
     ],
     "prompt_number": 6
    },
    {
     "cell_type": "code",
     "collapsed": false,
     "input": [
      "timeit pd.read_hdf('c:/tmp/rgl_df_fixed.h5', 'rgl')"
     ],
     "language": "python",
     "metadata": {},
     "outputs": [
      {
       "output_type": "stream",
       "stream": "stdout",
       "text": [
        "1 loops, best of 3: 289 ms per loop\n"
       ]
      }
     ],
     "prompt_number": 7
    },
    {
     "cell_type": "code",
     "collapsed": false,
     "input": [
      "# timeit pd.read_csv('c:/tmp/kh/rgl.csv', index_col=list(range(9)))\n",
      "# more than 10s !!"
     ],
     "language": "python",
     "metadata": {},
     "outputs": [],
     "prompt_number": 8
    },
    {
     "cell_type": "code",
     "collapsed": false,
     "input": [
      "timeit df.loc[(slice(None), slice(None), slice('2024', '3539')),:]"
     ],
     "language": "python",
     "metadata": {},
     "outputs": [
      {
       "output_type": "stream",
       "stream": "stdout",
       "text": [
        "10 loops, best of 3: 86 ms per loop\n"
       ]
      }
     ],
     "prompt_number": 9
    },
    {
     "cell_type": "code",
     "collapsed": false,
     "input": [
      "timeit df.loc(axis=0)[:, :, '2024':'3539']"
     ],
     "language": "python",
     "metadata": {},
     "outputs": [
      {
       "output_type": "stream",
       "stream": "stdout",
       "text": [
        "10 loops, best of 3: 86.8 ms per loop\n"
       ]
      }
     ],
     "prompt_number": 10
    },
    {
     "cell_type": "code",
     "collapsed": false,
     "input": [
      "s = df.stack()"
     ],
     "language": "python",
     "metadata": {},
     "outputs": [],
     "prompt_number": 12
    },
    {
     "cell_type": "code",
     "collapsed": false,
     "input": [
      "del df"
     ],
     "language": "python",
     "metadata": {},
     "outputs": [],
     "prompt_number": 13
    },
    {
     "cell_type": "code",
     "collapsed": false,
     "input": [
      "timeit s.loc[:, :, '2024':'3539']"
     ],
     "language": "python",
     "metadata": {},
     "outputs": [
      {
       "output_type": "stream",
       "stream": "stdout",
       "text": [
        "1 loops, best of 3: 1.64 s per loop\n"
       ]
      }
     ],
     "prompt_number": 14
    },
    {
     "cell_type": "code",
     "collapsed": false,
     "input": [
      "del s"
     ],
     "language": "python",
     "metadata": {},
     "outputs": [],
     "prompt_number": 15
    },
    {
     "cell_type": "code",
     "collapsed": false,
     "input": [
      "cd ~/devel/larray"
     ],
     "language": "python",
     "metadata": {},
     "outputs": [
      {
       "output_type": "stream",
       "stream": "stdout",
       "text": [
        "C:\\Users\\gdm\\devel\\larray\n"
       ]
      }
     ],
     "prompt_number": 12
    },
    {
     "cell_type": "code",
     "collapsed": false,
     "input": [
      "import larray as la"
     ],
     "language": "python",
     "metadata": {},
     "outputs": [],
     "prompt_number": 13
    },
    {
     "cell_type": "code",
     "collapsed": false,
     "input": [
      "a = la.read_hdf('c:/tmp/rgl_la.h5', 'rgl')"
     ],
     "language": "python",
     "metadata": {},
     "outputs": [],
     "prompt_number": 14
    },
    {
     "cell_type": "code",
     "collapsed": false,
     "input": [
      "timeit a.filter(agecat='2024:3539')"
     ],
     "language": "python",
     "metadata": {},
     "outputs": [
      {
       "output_type": "stream",
       "stream": "stdout",
       "text": [
        "10000 loops, best of 3: 118 \u00b5s per loop\n"
       ]
      }
     ],
     "prompt_number": 15
    },
    {
     "cell_type": "code",
     "collapsed": false,
     "input": [
      "a.filter(agecat='2024:3539')"
     ],
     "language": "python",
     "metadata": {},
     "outputs": [
      {
       "metadata": {},
       "output_type": "pyout",
       "prompt_number": 16,
       "text": [
        "\n",
        "geo | sex | agecat | type | sector | stat | contract | dim | bedrijfstak\\time | ...\n",
        "  T |   F |   2024 |    A |      A |    R |        D |   G |             01A1 | ...\n",
        "  T |   F |   2024 |    A |      A |    R |        D |   G |             02A1 | ...\n",
        "  T |   F |   2024 |    A |      A |    R |        D |   G |             03A1 | ...\n",
        "  T |   F |   2024 |    A |      A |    R |        D |   G |             05A1 | ...\n",
        "  T |   F |   2024 |    A |      A |    R |        D |   G |             08A1 | ...\n",
        "... | ... |    ... |  ... |    ... |  ... |      ... | ... |              ... | ...\n",
        "  T |   H |   3539 |    Z |      X |    U |        V |   K |             98A1 | ...\n",
        "  T |   H |   3539 |    Z |      X |    U |        V |   K |             99A9 | ...\n",
        "  T |   H |   3539 |    Z |      X |    U |        V |   K |               MO | ...\n",
        "  T |   H |   3539 |    Z |      X |    U |        V |   K |              ONT | ...\n",
        "  T |   H |   3539 |    Z |      X |    U |        V |   K |               PH | ..."
       ]
      }
     ],
     "prompt_number": 16
    },
    {
     "cell_type": "code",
     "collapsed": false,
     "input": [],
     "language": "python",
     "metadata": {},
     "outputs": [],
     "prompt_number": 19
    }
   ],
   "metadata": {}
  }
 ]
}