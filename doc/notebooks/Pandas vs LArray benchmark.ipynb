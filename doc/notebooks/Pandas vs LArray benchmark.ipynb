{
 "metadata": {
  "name": "",
  "signature": "sha256:17bb1ddede92e9bd4dc39acbda0c110d1f9feecfa4af52958b666067e1b81ef4"
 },
 "nbformat": 3,
 "nbformat_minor": 0,
 "worksheets": [
  {
   "cells": [
    {
     "cell_type": "code",
     "collapsed": false,
     "input": [
      "import pandas as pd"
     ],
     "language": "python",
     "metadata": {},
     "outputs": [],
     "prompt_number": 2
    },
    {
     "cell_type": "code",
     "collapsed": false,
     "input": [
      "df = pd.read_hdf('c:/tmp/kh/rgl_df_fixed.h5', 'rgl')"
     ],
     "language": "python",
     "metadata": {},
     "outputs": [],
     "prompt_number": 4
    },
    {
     "cell_type": "code",
     "collapsed": false,
     "input": [
      "df.index.levels"
     ],
     "language": "python",
     "metadata": {},
     "outputs": [
      {
       "metadata": {},
       "output_type": "pyout",
       "prompt_number": 5,
       "text": [
        "FrozenList([['T'], ['F', 'H'], ['1519', '2024', '2529', '3034', '3539', '4044', '4549', '5054', '5559', '6064', '6569', '7074', '7599', 'ONBE'], ['A', 'B', 'D', 'E', 'L', 'M', 'P', 'R', 'U', 'V', 'W', 'X', 'Y', 'Z'], ['A', 'B', 'F', 'X'], ['R', 'U'], ['D', 'I', 'M', 'O', 'V'], ['G', 'K'], ['01A1', '02A1', '03A1', '05A1', '08A1', '09A1', '10A1', '10B1', '10C1', '10D1', '10E1', '10F1', '10G1', '10H1', '10I1', '10J1', '11A1', '11B1', '12A1', '13A1', '13B1', '14A1', '15A1', '16A1', '17A1', '18A1', '19A1', '20A1', '20B1', '20C1', '20D1', '20E1', '20F1', '20G1', '21A1', '22A1', '22B1', '23A1', '23B1', '23C1', '23D1', '24A1', '24B1A', '24B1B', '24B1C', '25A1', '25B1', '25C1', '26A1A', '26A1B', '26B1A', '26B1B', '26C1A', '26C1B', '26C1C', '27A1A', '27A1B', '27A1C', '27B1', '28A1', '28B1', '29A1', '29B1', '30A1', '30B1', '30C1', '30D1', '31A1', '32A1', '32B1A', '32B1B', '33A1A', '33A1B', '35A1', '35B1', '36A1', '37A1', '37A3', '38A1', '38B1', '39A1', '41A1A', '41A1B', '42A1', '43A1', '43B1', '43C1', '43D1', '45A1', '46A1', '46B1', '47A1', '47B1', '49A1A', '49A1B', '49B1', '49B3', '49C1', '50A1', '50B1', ...]])"
       ]
      }
     ],
     "prompt_number": 5
    },
    {
     "cell_type": "code",
     "collapsed": false,
     "input": [
      "df.index.names"
     ],
     "language": "python",
     "metadata": {},
     "outputs": [
      {
       "metadata": {},
       "output_type": "pyout",
       "prompt_number": 6,
       "text": [
        "FrozenList(['geo', 'sex', 'agecat', 'type', 'sector', 'stat', 'contract', 'dim', 'bedrijfstak\\time'])"
       ]
      }
     ],
     "prompt_number": 6
    },
    {
     "cell_type": "code",
     "collapsed": false,
     "input": [
      "timeit df.xs('2024', level='agecat')"
     ],
     "language": "python",
     "metadata": {},
     "outputs": [
      {
       "output_type": "stream",
       "stream": "stdout",
       "text": [
        "10 loops, best of 3: 22.1 ms per loop\n"
       ]
      }
     ],
     "prompt_number": 7
    },
    {
     "cell_type": "code",
     "collapsed": false,
     "input": [
      "# peaks at 500Mb RAM !\n",
      "timeit pd.read_hdf('c:/tmp/kh/rgl_df_fixed.h5', 'rgl')"
     ],
     "language": "python",
     "metadata": {},
     "outputs": [
      {
       "output_type": "stream",
       "stream": "stdout",
       "text": [
        "1 loops, best of 3: 286 ms per loop\n"
       ]
      }
     ],
     "prompt_number": 9
    },
    {
     "cell_type": "code",
     "collapsed": false,
     "input": [
      "# timeit pd.read_csv('c:/tmp/kh/rgl.csv', index_col=list(range(9)))\n",
      "# more than 10s !!"
     ],
     "language": "python",
     "metadata": {},
     "outputs": [],
     "prompt_number": 10
    },
    {
     "cell_type": "code",
     "collapsed": false,
     "input": [
      "timeit df.loc[(slice(None), slice(None), slice('2024', '3539')),:]"
     ],
     "language": "python",
     "metadata": {},
     "outputs": [
      {
       "output_type": "stream",
       "stream": "stdout",
       "text": [
        "10 loops, best of 3: 85.4 ms per loop\n"
       ]
      }
     ],
     "prompt_number": 11
    },
    {
     "cell_type": "code",
     "collapsed": false,
     "input": [
      "timeit df.loc(axis=0)[:, :, '2024':'3539']"
     ],
     "language": "python",
     "metadata": {},
     "outputs": [
      {
       "output_type": "stream",
       "stream": "stdout",
       "text": [
        "10 loops, best of 3: 84.8 ms per loop\n"
       ]
      }
     ],
     "prompt_number": 12
    },
    {
     "cell_type": "code",
     "collapsed": false,
     "input": [
      "df.loc(axis=0)[:, :, '2024':'3539'].sum().sum()"
     ],
     "language": "python",
     "metadata": {},
     "outputs": [
      {
       "metadata": {},
       "output_type": "pyout",
       "prompt_number": 19,
       "text": [
        "218329668937901.34"
       ]
      }
     ],
     "prompt_number": 19
    },
    {
     "cell_type": "code",
     "collapsed": false,
     "input": [
      "timeit df.loc(axis=0)[:, :, '2024':'3539'].sum().sum()"
     ],
     "language": "python",
     "metadata": {},
     "outputs": [
      {
       "output_type": "stream",
       "stream": "stdout",
       "text": [
        "1 loops, best of 3: 240 ms per loop\n"
       ]
      }
     ],
     "prompt_number": 20
    },
    {
     "cell_type": "code",
     "collapsed": false,
     "input": [
      "s = df.stack()"
     ],
     "language": "python",
     "metadata": {},
     "outputs": [],
     "prompt_number": 14
    },
    {
     "cell_type": "code",
     "collapsed": false,
     "input": [
      "del df"
     ],
     "language": "python",
     "metadata": {},
     "outputs": [],
     "prompt_number": 21
    },
    {
     "cell_type": "code",
     "collapsed": false,
     "input": [
      "timeit s.loc[:, :, '2024':'3539']"
     ],
     "language": "python",
     "metadata": {},
     "outputs": [
      {
       "output_type": "stream",
       "stream": "stdout",
       "text": [
        "1 loops, best of 3: 1.43 s per loop\n"
       ]
      }
     ],
     "prompt_number": 22
    },
    {
     "cell_type": "code",
     "collapsed": false,
     "input": [
      "del s"
     ],
     "language": "python",
     "metadata": {},
     "outputs": [],
     "prompt_number": 23
    },
    {
     "cell_type": "code",
     "collapsed": false,
     "input": [
      "import larray as la"
     ],
     "language": "python",
     "metadata": {},
     "outputs": [],
     "prompt_number": 3
    },
    {
     "cell_type": "code",
     "collapsed": false,
     "input": [
      "a = la.read_hdf('c:/tmp/kh/rgl_la.h5', 'rgl')"
     ],
     "language": "python",
     "metadata": {},
     "outputs": [],
     "prompt_number": 7
    },
    {
     "cell_type": "code",
     "collapsed": false,
     "input": [
      "timeit a.filter(agecat='2024:3539')"
     ],
     "language": "python",
     "metadata": {},
     "outputs": [
      {
       "output_type": "stream",
       "stream": "stdout",
       "text": [
        "10000 loops, best of 3: 129 \u00b5s per loop\n"
       ]
      }
     ],
     "prompt_number": 27
    },
    {
     "cell_type": "code",
     "collapsed": false,
     "input": [
      "a.filter(agecat='2024:3539')"
     ],
     "language": "python",
     "metadata": {},
     "outputs": [
      {
       "metadata": {},
       "output_type": "pyout",
       "prompt_number": 28,
       "text": [
        "\n",
        "geo | sex | agecat | type | sector | stat | contract | dim | bedrijfstak\\time | ...\n",
        "  T |   F |   2024 |    A |      A |    R |        D |   G |             01A1 | ...\n",
        "  T |   F |   2024 |    A |      A |    R |        D |   G |             02A1 | ...\n",
        "  T |   F |   2024 |    A |      A |    R |        D |   G |             03A1 | ...\n",
        "  T |   F |   2024 |    A |      A |    R |        D |   G |             05A1 | ...\n",
        "  T |   F |   2024 |    A |      A |    R |        D |   G |             08A1 | ...\n",
        "... | ... |    ... |  ... |    ... |  ... |      ... | ... |              ... | ...\n",
        "  T |   H |   3539 |    Z |      X |    U |        V |   K |             98A1 | ...\n",
        "  T |   H |   3539 |    Z |      X |    U |        V |   K |             99A9 | ...\n",
        "  T |   H |   3539 |    Z |      X |    U |        V |   K |               MO | ...\n",
        "  T |   H |   3539 |    Z |      X |    U |        V |   K |              ONT | ...\n",
        "  T |   H |   3539 |    Z |      X |    U |        V |   K |               PH | ..."
       ]
      }
     ],
     "prompt_number": 28
    },
    {
     "cell_type": "code",
     "collapsed": false,
     "input": [
      "import numpy as np"
     ],
     "language": "python",
     "metadata": {},
     "outputs": [],
     "prompt_number": 31
    },
    {
     "cell_type": "code",
     "collapsed": false,
     "input": [
      "a[np.isnan(a)] = 0"
     ],
     "language": "python",
     "metadata": {},
     "outputs": [],
     "prompt_number": 33
    },
    {
     "cell_type": "code",
     "collapsed": false,
     "input": [
      "a.sum()"
     ],
     "language": "python",
     "metadata": {},
     "outputs": [
      {
       "metadata": {},
       "output_type": "pyout",
       "prompt_number": 34,
       "text": [
        "465606507083673.5"
       ]
      }
     ],
     "prompt_number": 34
    },
    {
     "cell_type": "code",
     "collapsed": false,
     "input": [
      "timeit a.sum()"
     ],
     "language": "python",
     "metadata": {},
     "outputs": [
      {
       "output_type": "stream",
       "stream": "stdout",
       "text": [
        "1 loops, best of 3: 385 ms per loop\n"
       ]
      }
     ],
     "prompt_number": 35
    },
    {
     "cell_type": "code",
     "collapsed": false,
     "input": [
      "# peaks at 5Gb RAM !\n",
      "timeit la.read_hdf('c:/tmp/kh/rgl_la.h5', 'rgl')"
     ],
     "language": "python",
     "metadata": {},
     "outputs": [
      {
       "output_type": "stream",
       "stream": "stdout",
       "text": [
        "1 loops, best of 3: 6.4 s per loop\n"
       ]
      }
     ],
     "prompt_number": 4
    },
    {
     "cell_type": "code",
     "collapsed": false,
     "input": [
      "# peaks at 10Gb RAM !\n",
      "timeit la.read_hdf('c:/tmp/kh/rgl_df_fixed.h5', 'rgl')"
     ],
     "language": "python",
     "metadata": {},
     "outputs": [
      {
       "output_type": "stream",
       "stream": "stdout",
       "text": [
        "1 loops, best of 3: 12.2 s per loop\n"
       ]
      }
     ],
     "prompt_number": 39
    },
    {
     "cell_type": "code",
     "collapsed": false,
     "input": [],
     "language": "python",
     "metadata": {},
     "outputs": []
    }
   ],
   "metadata": {}
  }
 ]
}