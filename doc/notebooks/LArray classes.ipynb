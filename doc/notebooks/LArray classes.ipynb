{
 "metadata": {
  "name": "",
  "signature": "sha256:885ebbdc101d413a1d1ce16cefb3426f07af70f40ca3bea0779e148398fdd001"
 },
 "nbformat": 3,
 "nbformat_minor": 0,
 "worksheets": [
  {
   "cells": [
    {
     "cell_type": "heading",
     "level": 1,
     "metadata": {},
     "source": [
      "Axis"
     ]
    },
    {
     "cell_type": "code",
     "collapsed": false,
     "input": [
      "from larray import *"
     ],
     "language": "python",
     "metadata": {},
     "outputs": [],
     "prompt_number": 33
    },
    {
     "cell_type": "code",
     "collapsed": false,
     "input": [
      "age = Axis('age', ':115')"
     ],
     "language": "python",
     "metadata": {},
     "outputs": [],
     "prompt_number": 34
    },
    {
     "cell_type": "code",
     "collapsed": false,
     "input": [
      "sex = Axis('sex', 'M,F')"
     ],
     "language": "python",
     "metadata": {},
     "outputs": [],
     "prompt_number": 35
    },
    {
     "cell_type": "code",
     "collapsed": false,
     "input": [
      "fla_str = 'A11,A12,A13,A23,A24,A31,A32,A33,A34,A35,A36,A37,A38,A41,A42,' \\\n",
      "          'A43,A44,A45,A46,A71,A72,A73'\n",
      "wal_str = 'A25,A51,A52,A53,A54,A55,A56,A57,A61,A62,A63,A64,A65,A81,A82,' \\\n",
      "          'A83,A84,A85,A91,A92,A93'\n",
      "bru_str = 'A21'"
     ],
     "language": "python",
     "metadata": {},
     "outputs": [],
     "prompt_number": 36
    },
    {
     "cell_type": "code",
     "collapsed": false,
     "input": [
      "belgium = union(fla_str, wal_str, bru_str)"
     ],
     "language": "python",
     "metadata": {},
     "outputs": [],
     "prompt_number": 37
    },
    {
     "cell_type": "code",
     "collapsed": false,
     "input": [
      "belgium"
     ],
     "language": "python",
     "metadata": {},
     "outputs": [
      {
       "metadata": {},
       "output_type": "pyout",
       "prompt_number": 38,
       "text": [
        "['A11',\n",
        " 'A12',\n",
        " 'A13',\n",
        " 'A23',\n",
        " 'A24',\n",
        " 'A31',\n",
        " 'A32',\n",
        " 'A33',\n",
        " 'A34',\n",
        " 'A35',\n",
        " 'A36',\n",
        " 'A37',\n",
        " 'A38',\n",
        " 'A41',\n",
        " 'A42',\n",
        " 'A43',\n",
        " 'A44',\n",
        " 'A45',\n",
        " 'A46',\n",
        " 'A71',\n",
        " 'A72',\n",
        " 'A73',\n",
        " 'A25',\n",
        " 'A51',\n",
        " 'A52',\n",
        " 'A53',\n",
        " 'A54',\n",
        " 'A55',\n",
        " 'A56',\n",
        " 'A57',\n",
        " 'A61',\n",
        " 'A62',\n",
        " 'A63',\n",
        " 'A64',\n",
        " 'A65',\n",
        " 'A81',\n",
        " 'A82',\n",
        " 'A83',\n",
        " 'A84',\n",
        " 'A85',\n",
        " 'A91',\n",
        " 'A92',\n",
        " 'A93',\n",
        " 'A21']"
       ]
      }
     ],
     "prompt_number": 38
    },
    {
     "cell_type": "code",
     "collapsed": false,
     "input": [
      "geo = Axis('geo', belgium)"
     ],
     "language": "python",
     "metadata": {},
     "outputs": [],
     "prompt_number": 39
    },
    {
     "cell_type": "code",
     "collapsed": false,
     "input": [
      "a = zeros([age, geo, sex])"
     ],
     "language": "python",
     "metadata": {},
     "outputs": [],
     "prompt_number": 40
    },
    {
     "cell_type": "code",
     "collapsed": false,
     "input": [
      "age.name"
     ],
     "language": "python",
     "metadata": {},
     "outputs": [
      {
       "metadata": {},
       "output_type": "pyout",
       "prompt_number": 41,
       "text": [
        "'age'"
       ]
      }
     ],
     "prompt_number": 41
    },
    {
     "cell_type": "code",
     "collapsed": false,
     "input": [
      "age.labels"
     ],
     "language": "python",
     "metadata": {},
     "outputs": [
      {
       "metadata": {},
       "output_type": "pyout",
       "prompt_number": 42,
       "text": [
        "array(['0', '1', '2', '3', '4', '5', '6', '7', '8', '9', '10', '11', '12',\n",
        "       '13', '14', '15', '16', '17', '18', '19', '20', '21', '22', '23',\n",
        "       '24', '25', '26', '27', '28', '29', '30', '31', '32', '33', '34',\n",
        "       '35', '36', '37', '38', '39', '40', '41', '42', '43', '44', '45',\n",
        "       '46', '47', '48', '49', '50', '51', '52', '53', '54', '55', '56',\n",
        "       '57', '58', '59', '60', '61', '62', '63', '64', '65', '66', '67',\n",
        "       '68', '69', '70', '71', '72', '73', '74', '75', '76', '77', '78',\n",
        "       '79', '80', '81', '82', '83', '84', '85', '86', '87', '88', '89',\n",
        "       '90', '91', '92', '93', '94', '95', '96', '97', '98', '99', '100',\n",
        "       '101', '102', '103', '104', '105', '106', '107', '108', '109',\n",
        "       '110', '111', '112', '113', '114', '115'], \n",
        "      dtype='<U3')"
       ]
      }
     ],
     "prompt_number": 42
    },
    {
     "cell_type": "code",
     "collapsed": false,
     "input": [
      "sex.labels"
     ],
     "language": "python",
     "metadata": {},
     "outputs": [
      {
       "metadata": {},
       "output_type": "pyout",
       "prompt_number": 43,
       "text": [
        "array(['M', 'F'], \n",
        "      dtype='<U1')"
       ]
      }
     ],
     "prompt_number": 43
    },
    {
     "cell_type": "heading",
     "level": 3,
     "metadata": {},
     "source": [
      "Axis objects main purpose is to translate labels/ticks to indices (positions)"
     ]
    },
    {
     "cell_type": "heading",
     "level": 4,
     "metadata": {},
     "source": [
      "... but this should (probably) never be called manually ... it is done internally by LArray[ ] and LArray.filter"
     ]
    },
    {
     "cell_type": "code",
     "collapsed": false,
     "input": [
      "sex.translate('F')"
     ],
     "language": "python",
     "metadata": {},
     "outputs": [
      {
       "metadata": {},
       "output_type": "pyout",
       "prompt_number": 44,
       "text": [
        "1"
       ]
      }
     ],
     "prompt_number": 44
    },
    {
     "cell_type": "code",
     "collapsed": false,
     "input": [
      "geo.translate('A13')"
     ],
     "language": "python",
     "metadata": {},
     "outputs": [
      {
       "metadata": {},
       "output_type": "pyout",
       "prompt_number": 45,
       "text": [
        "2"
       ]
      }
     ],
     "prompt_number": 45
    },
    {
     "cell_type": "code",
     "collapsed": false,
     "input": [
      "geo.translate('A12,A52')"
     ],
     "language": "python",
     "metadata": {},
     "outputs": [
      {
       "metadata": {},
       "output_type": "pyout",
       "prompt_number": 46,
       "text": [
        "array([ 1, 24])"
       ]
      }
     ],
     "prompt_number": 46
    },
    {
     "cell_type": "code",
     "collapsed": true,
     "input": [
      "geo.labels[1]"
     ],
     "language": "python",
     "metadata": {},
     "outputs": [
      {
       "metadata": {},
       "output_type": "pyout",
       "prompt_number": 47,
       "text": [
        "'A12'"
       ]
      }
     ],
     "prompt_number": 47
    },
    {
     "cell_type": "heading",
     "level": 4,
     "metadata": {},
     "source": [
      "It accepts several syntaxes"
     ]
    },
    {
     "cell_type": "code",
     "collapsed": false,
     "input": [
      "geo.translate(['A12', 'A52'])"
     ],
     "language": "python",
     "metadata": {},
     "outputs": [
      {
       "metadata": {},
       "output_type": "pyout",
       "prompt_number": 48,
       "text": [
        "array([ 1, 24])"
       ]
      }
     ],
     "prompt_number": 48
    },
    {
     "cell_type": "heading",
     "level": 3,
     "metadata": {},
     "source": [
      "Axis objects can also be used to create ValueGroups"
     ]
    },
    {
     "cell_type": "code",
     "collapsed": false,
     "input": [
      "fla = geo[fla_str]"
     ],
     "language": "python",
     "metadata": {},
     "outputs": [],
     "prompt_number": 49
    },
    {
     "cell_type": "code",
     "collapsed": false,
     "input": [
      "fla = geo.group(fla_str, name='Flanders')"
     ],
     "language": "python",
     "metadata": {},
     "outputs": [],
     "prompt_number": 50
    },
    {
     "cell_type": "code",
     "collapsed": false,
     "input": [
      "wal = geo.group(wal_str, name='Wallonia')\n"
     ],
     "language": "python",
     "metadata": {},
     "outputs": [],
     "prompt_number": 51
    },
    {
     "cell_type": "heading",
     "level": 1,
     "metadata": {},
     "source": [
      "ValueGroup"
     ]
    },
    {
     "cell_type": "heading",
     "level": 2,
     "metadata": {},
     "source": [
      "the main purpose of ValueGroup is to attach a name and Axis to a group of values"
     ]
    },
    {
     "cell_type": "code",
     "collapsed": false,
     "input": [
      "fla.name"
     ],
     "language": "python",
     "metadata": {},
     "outputs": [
      {
       "metadata": {},
       "output_type": "pyout",
       "prompt_number": 52,
       "text": [
        "'Flanders'"
       ]
      }
     ],
     "prompt_number": 52
    },
    {
     "cell_type": "code",
     "collapsed": false,
     "input": [
      "fla.axis"
     ],
     "language": "python",
     "metadata": {},
     "outputs": [
      {
       "metadata": {},
       "output_type": "pyout",
       "prompt_number": 53,
       "text": [
        "Axis('geo', ['A11', 'A12', 'A13', 'A23', 'A24', 'A31', 'A32', 'A33', 'A34', 'A35', 'A36', 'A37', 'A38', 'A41', 'A42', 'A43', 'A44', 'A45', 'A46', 'A71', 'A72', 'A73', 'A25', 'A51', 'A52', 'A53', 'A54', 'A55', 'A56', 'A57', 'A61', 'A62', 'A63', 'A64', 'A65', 'A81', 'A82', 'A83', 'A84', 'A85', 'A91', 'A92', 'A93', 'A21'])"
       ]
      }
     ],
     "prompt_number": 53
    },
    {
     "cell_type": "code",
     "collapsed": false,
     "input": [
      "fla.key"
     ],
     "language": "python",
     "metadata": {},
     "outputs": [
      {
       "metadata": {},
       "output_type": "pyout",
       "prompt_number": 54,
       "text": [
        "'A11,A12,A13,A23,A24,A31,A32,A33,A34,A35,A36,A37,A38,A41,A42,A43,A44,A45,A46,A71,A72,A73'"
       ]
      }
     ],
     "prompt_number": 54
    },
    {
     "cell_type": "heading",
     "level": 3,
     "metadata": {},
     "source": [
      "... so that output is more readable ..."
     ]
    },
    {
     "cell_type": "code",
     "collapsed": false,
     "input": [
      "a.sum(geo=(fla, wal))"
     ],
     "language": "python",
     "metadata": {},
     "outputs": [
      {
       "metadata": {},
       "output_type": "pyout",
       "prompt_number": 61,
       "text": [
        "\n",
        "age |  geo\\sex |   M |   F\n",
        "  0 | Flanders | 0.0 | 0.0\n",
        "  0 | Wallonia | 0.0 | 0.0\n",
        "  1 | Flanders | 0.0 | 0.0\n",
        "  1 | Wallonia | 0.0 | 0.0\n",
        "  2 | Flanders | 0.0 | 0.0\n",
        "... |      ... | ... | ...\n",
        "113 | Wallonia | 0.0 | 0.0\n",
        "114 | Flanders | 0.0 | 0.0\n",
        "114 | Wallonia | 0.0 | 0.0\n",
        "115 | Flanders | 0.0 | 0.0\n",
        "115 | Wallonia | 0.0 | 0.0"
       ]
      }
     ],
     "prompt_number": 61
    },
    {
     "cell_type": "code",
     "collapsed": false,
     "input": [
      "a.sum(geo=(fla_str, wal_str))"
     ],
     "language": "python",
     "metadata": {},
     "outputs": [
      {
       "metadata": {},
       "output_type": "pyout",
       "prompt_number": 62,
       "text": [
        "\n",
        "age |                                                                                 geo\\sex | ...\n",
        "  0 | A11,A12,A13,A23,A24,A31,A32,A33,A34,A35,A36,A37,A38,A41,A42,A43,A44,A45,A46,A71,A72,A73 | ...\n",
        "  0 |     A25,A51,A52,A53,A54,A55,A56,A57,A61,A62,A63,A64,A65,A81,A82,A83,A84,A85,A91,A92,A93 | ...\n",
        "  1 | A11,A12,A13,A23,A24,A31,A32,A33,A34,A35,A36,A37,A38,A41,A42,A43,A44,A45,A46,A71,A72,A73 | ...\n",
        "  1 |     A25,A51,A52,A53,A54,A55,A56,A57,A61,A62,A63,A64,A65,A81,A82,A83,A84,A85,A91,A92,A93 | ...\n",
        "  2 | A11,A12,A13,A23,A24,A31,A32,A33,A34,A35,A36,A37,A38,A41,A42,A43,A44,A45,A46,A71,A72,A73 | ...\n",
        "... |                                                                                     ... | ...\n",
        "113 |     A25,A51,A52,A53,A54,A55,A56,A57,A61,A62,A63,A64,A65,A81,A82,A83,A84,A85,A91,A92,A93 | ...\n",
        "114 | A11,A12,A13,A23,A24,A31,A32,A33,A34,A35,A36,A37,A38,A41,A42,A43,A44,A45,A46,A71,A72,A73 | ...\n",
        "114 |     A25,A51,A52,A53,A54,A55,A56,A57,A61,A62,A63,A64,A65,A81,A82,A83,A84,A85,A91,A92,A93 | ...\n",
        "115 | A11,A12,A13,A23,A24,A31,A32,A33,A34,A35,A36,A37,A38,A41,A42,A43,A44,A45,A46,A71,A72,A73 | ...\n",
        "115 |     A25,A51,A52,A53,A54,A55,A56,A57,A61,A62,A63,A64,A65,A81,A82,A83,A84,A85,A91,A92,A93 | ..."
       ]
      }
     ],
     "prompt_number": 62
    },
    {
     "cell_type": "heading",
     "level": 3,
     "metadata": {},
     "source": [
      "... and you can avoid naming the dimension ..."
     ]
    },
    {
     "cell_type": "code",
     "collapsed": false,
     "input": [
      "a[wal]"
     ],
     "language": "python",
     "metadata": {},
     "outputs": [
      {
       "metadata": {},
       "output_type": "pyout",
       "prompt_number": 63,
       "text": [
        "\n",
        "age | geo\\sex |   M |   F\n",
        "  0 |     A25 | 0.0 | 0.0\n",
        "  0 |     A51 | 0.0 | 0.0\n",
        "  0 |     A52 | 0.0 | 0.0\n",
        "  0 |     A53 | 0.0 | 0.0\n",
        "  0 |     A54 | 0.0 | 0.0\n",
        "... |     ... | ... | ...\n",
        "115 |     A84 | 0.0 | 0.0\n",
        "115 |     A85 | 0.0 | 0.0\n",
        "115 |     A91 | 0.0 | 0.0\n",
        "115 |     A92 | 0.0 | 0.0\n",
        "115 |     A93 | 0.0 | 0.0"
       ]
      }
     ],
     "prompt_number": 63
    },
    {
     "cell_type": "heading",
     "level": 4,
     "metadata": {},
     "source": [
      "geo is not the first dimension"
     ]
    },
    {
     "cell_type": "code",
     "collapsed": false,
     "input": [
      "a[wal_str]"
     ],
     "language": "python",
     "metadata": {},
     "outputs": [
      {
       "ename": "KeyError",
       "evalue": "'A25'",
       "output_type": "pyerr",
       "traceback": [
        "\u001b[1;31m---------------------------------------------------------------------------\u001b[0m\n\u001b[1;31mKeyError\u001b[0m                                  Traceback (most recent call last)",
        "\u001b[1;32m<ipython-input-58-908f32399c16>\u001b[0m in \u001b[0;36m<module>\u001b[1;34m()\u001b[0m\n\u001b[1;32m----> 1\u001b[1;33m \u001b[0ma\u001b[0m\u001b[1;33m[\u001b[0m\u001b[0mwal_str\u001b[0m\u001b[1;33m]\u001b[0m\u001b[1;33m\u001b[0m\u001b[0m\n\u001b[0m",
        "\u001b[1;32mC:\\Users\\gdm\\devel\\larray\\larray.py\u001b[0m in \u001b[0;36m__getitem__\u001b[1;34m(self, key, collapse_slices)\u001b[0m\n\u001b[0;32m    882\u001b[0m         \u001b[0mdata\u001b[0m \u001b[1;33m=\u001b[0m \u001b[0mnp\u001b[0m\u001b[1;33m.\u001b[0m\u001b[0masarray\u001b[0m\u001b[1;33m(\u001b[0m\u001b[0mself\u001b[0m\u001b[1;33m)\u001b[0m\u001b[1;33m\u001b[0m\u001b[0m\n\u001b[0;32m    883\u001b[0m \u001b[1;33m\u001b[0m\u001b[0m\n\u001b[1;32m--> 884\u001b[1;33m         \u001b[0mtranslated_key\u001b[0m \u001b[1;33m=\u001b[0m \u001b[0mself\u001b[0m\u001b[1;33m.\u001b[0m\u001b[0mtranslated_key\u001b[0m\u001b[1;33m(\u001b[0m\u001b[0mself\u001b[0m\u001b[1;33m.\u001b[0m\u001b[0mfull_key\u001b[0m\u001b[1;33m(\u001b[0m\u001b[0mkey\u001b[0m\u001b[1;33m)\u001b[0m\u001b[1;33m)\u001b[0m\u001b[1;33m\u001b[0m\u001b[0m\n\u001b[0m\u001b[0;32m    885\u001b[0m \u001b[1;33m\u001b[0m\u001b[0m\n\u001b[0;32m    886\u001b[0m         axes = [axis.subaxis(axis_key)\n",
        "\u001b[1;32mC:\\Users\\gdm\\devel\\larray\\larray.py\u001b[0m in \u001b[0;36mtranslated_key\u001b[1;34m(self, key)\u001b[0m\n\u001b[0;32m    877\u001b[0m     \u001b[1;32mdef\u001b[0m \u001b[0mtranslated_key\u001b[0m\u001b[1;33m(\u001b[0m\u001b[0mself\u001b[0m\u001b[1;33m,\u001b[0m \u001b[0mkey\u001b[0m\u001b[1;33m)\u001b[0m\u001b[1;33m:\u001b[0m\u001b[1;33m\u001b[0m\u001b[0m\n\u001b[0;32m    878\u001b[0m         return tuple(axis.translate(axis_key)\n\u001b[1;32m--> 879\u001b[1;33m                      for axis, axis_key in zip(self.axes, key))\n\u001b[0m\u001b[0;32m    880\u001b[0m \u001b[1;33m\u001b[0m\u001b[0m\n\u001b[0;32m    881\u001b[0m     \u001b[1;32mdef\u001b[0m \u001b[0m__getitem__\u001b[0m\u001b[1;33m(\u001b[0m\u001b[0mself\u001b[0m\u001b[1;33m,\u001b[0m \u001b[0mkey\u001b[0m\u001b[1;33m,\u001b[0m \u001b[0mcollapse_slices\u001b[0m\u001b[1;33m=\u001b[0m\u001b[1;32mFalse\u001b[0m\u001b[1;33m)\u001b[0m\u001b[1;33m:\u001b[0m\u001b[1;33m\u001b[0m\u001b[0m\n",
        "\u001b[1;32mC:\\Users\\gdm\\devel\\larray\\larray.py\u001b[0m in \u001b[0;36m<genexpr>\u001b[1;34m(.0)\u001b[0m\n\u001b[0;32m    877\u001b[0m     \u001b[1;32mdef\u001b[0m \u001b[0mtranslated_key\u001b[0m\u001b[1;33m(\u001b[0m\u001b[0mself\u001b[0m\u001b[1;33m,\u001b[0m \u001b[0mkey\u001b[0m\u001b[1;33m)\u001b[0m\u001b[1;33m:\u001b[0m\u001b[1;33m\u001b[0m\u001b[0m\n\u001b[0;32m    878\u001b[0m         return tuple(axis.translate(axis_key)\n\u001b[1;32m--> 879\u001b[1;33m                      for axis, axis_key in zip(self.axes, key))\n\u001b[0m\u001b[0;32m    880\u001b[0m \u001b[1;33m\u001b[0m\u001b[0m\n\u001b[0;32m    881\u001b[0m     \u001b[1;32mdef\u001b[0m \u001b[0m__getitem__\u001b[0m\u001b[1;33m(\u001b[0m\u001b[0mself\u001b[0m\u001b[1;33m,\u001b[0m \u001b[0mkey\u001b[0m\u001b[1;33m,\u001b[0m \u001b[0mcollapse_slices\u001b[0m\u001b[1;33m=\u001b[0m\u001b[1;32mFalse\u001b[0m\u001b[1;33m)\u001b[0m\u001b[1;33m:\u001b[0m\u001b[1;33m\u001b[0m\u001b[0m\n",
        "\u001b[1;32mC:\\Users\\gdm\\devel\\larray\\larray.py\u001b[0m in \u001b[0;36mtranslate\u001b[1;34m(self, key)\u001b[0m\n\u001b[0;32m    543\u001b[0m             \u001b[0mres\u001b[0m \u001b[1;33m=\u001b[0m \u001b[0mnp\u001b[0m\u001b[1;33m.\u001b[0m\u001b[0mempty\u001b[0m\u001b[1;33m(\u001b[0m\u001b[0mlen\u001b[0m\u001b[1;33m(\u001b[0m\u001b[0mkey\u001b[0m\u001b[1;33m)\u001b[0m\u001b[1;33m,\u001b[0m \u001b[0mint\u001b[0m\u001b[1;33m)\u001b[0m\u001b[1;33m\u001b[0m\u001b[0m\n\u001b[0;32m    544\u001b[0m             \u001b[1;32mfor\u001b[0m \u001b[0mi\u001b[0m\u001b[1;33m,\u001b[0m \u001b[0mlabel\u001b[0m \u001b[1;32min\u001b[0m \u001b[0menumerate\u001b[0m\u001b[1;33m(\u001b[0m\u001b[0mkey\u001b[0m\u001b[1;33m)\u001b[0m\u001b[1;33m:\u001b[0m\u001b[1;33m\u001b[0m\u001b[0m\n\u001b[1;32m--> 545\u001b[1;33m                 \u001b[0mres\u001b[0m\u001b[1;33m[\u001b[0m\u001b[0mi\u001b[0m\u001b[1;33m]\u001b[0m \u001b[1;33m=\u001b[0m \u001b[0mmapping\u001b[0m\u001b[1;33m[\u001b[0m\u001b[0mlabel\u001b[0m\u001b[1;33m]\u001b[0m\u001b[1;33m\u001b[0m\u001b[0m\n\u001b[0m\u001b[0;32m    546\u001b[0m             \u001b[1;32mreturn\u001b[0m \u001b[0mres\u001b[0m\u001b[1;33m\u001b[0m\u001b[0m\n\u001b[0;32m    547\u001b[0m         \u001b[1;32melse\u001b[0m\u001b[1;33m:\u001b[0m\u001b[1;33m\u001b[0m\u001b[0m\n",
        "\u001b[1;31mKeyError\u001b[0m: 'A25'"
       ]
      }
     ],
     "prompt_number": 58
    },
    {
     "cell_type": "code",
     "collapsed": false,
     "input": [
      "a.filter(geo=wal_str)"
     ],
     "language": "python",
     "metadata": {},
     "outputs": []
    },
    {
     "cell_type": "heading",
     "level": 3,
     "metadata": {},
     "source": [
      "... or (worse) using the dimension position"
     ]
    },
    {
     "cell_type": "code",
     "collapsed": false,
     "input": [
      "a[:,wal_str]"
     ],
     "language": "python",
     "metadata": {},
     "outputs": []
    },
    {
     "cell_type": "heading",
     "level": 3,
     "metadata": {},
     "source": [
      "ValueGroup keys can also be slices"
     ]
    },
    {
     "cell_type": "code",
     "collapsed": false,
     "input": [
      "geo['A23':'A42']"
     ],
     "language": "python",
     "metadata": {},
     "outputs": []
    },
    {
     "cell_type": "code",
     "collapsed": false,
     "input": [
      "geo['A23:A42']\n"
     ],
     "language": "python",
     "metadata": {},
     "outputs": []
    },
    {
     "cell_type": "heading",
     "level": 3,
     "metadata": {},
     "source": [
      "Note that slice stop bounds are _inclusive_"
     ]
    },
    {
     "cell_type": "heading",
     "level": 4,
     "metadata": {},
     "source": [
      "Notice that the slices are not expanded within the ValueGroup"
     ]
    },
    {
     "cell_type": "code",
     "collapsed": false,
     "input": [
      "a[geo['A23:A42']].info"
     ],
     "language": "python",
     "metadata": {},
     "outputs": []
    }
   ],
   "metadata": {}
  }
 ]
}