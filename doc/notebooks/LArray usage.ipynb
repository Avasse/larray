{
 "metadata": {
  "celltoolbar": "Raw Cell Format",
  "name": "",
  "signature": "sha256:23bd43510cd761f7adbc796b46af322a95c324f9221a53a422b0cec13c1e6183"
 },
 "nbformat": 3,
 "nbformat_minor": 0,
 "worksheets": [
  {
   "cells": [
    {
     "cell_type": "code",
     "collapsed": false,
     "input": [
      "from larray import *"
     ],
     "language": "python",
     "metadata": {},
     "outputs": [],
     "prompt_number": 2
    },
    {
     "cell_type": "heading",
     "level": 2,
     "metadata": {},
     "source": [
      "Loading"
     ]
    },
    {
     "cell_type": "code",
     "collapsed": false,
     "input": [
      "a = read_csv('test.csv')"
     ],
     "language": "python",
     "metadata": {},
     "outputs": [],
     "prompt_number": 3
    },
    {
     "cell_type": "code",
     "collapsed": false,
     "input": [
      "a"
     ],
     "language": "python",
     "metadata": {},
     "outputs": [
      {
       "metadata": {},
       "output_type": "pyout",
       "prompt_number": 4,
       "text": [
        "\n",
        "age | geo | sex\\lipro |             P01 | ... |            P15\n",
        "  0 | A11 |         F |  0.444719251373 | ... | 0.857357338422\n",
        "  0 | A11 |         H |  0.190309636993 | ... |  0.14832969697\n",
        "  0 | A12 |         F |  0.525551565311 | ... | 0.318208198697\n",
        "  0 | A12 |         H |  0.238886570471 | ... | 0.319796432449\n",
        "  0 | A13 |         F |  0.392189019207 | ... | 0.574969923834\n",
        "... | ... |       ... |             ... | ... |            ...\n",
        "115 | A91 |         H |  0.391566460037 | ... | 0.728229419264\n",
        "115 | A92 |         F | 0.0744904918105 | ... | 0.818109781716\n",
        "115 | A92 |         H |  0.110161927992 | ... |  0.71327740658\n",
        "115 | A93 |         F |  0.260923731957 | ... | 0.277366470012\n",
        "115 | A93 |         H | 0.0968159351789 | ... |  0.32785443685"
       ]
      }
     ],
     "prompt_number": 4
    },
    {
     "cell_type": "code",
     "collapsed": false,
     "input": [
      "read_csv('test.csv', sort_rows=False) # this is less efficient"
     ],
     "language": "python",
     "metadata": {},
     "outputs": [
      {
       "metadata": {},
       "output_type": "pyout",
       "prompt_number": 5,
       "text": [
        "\n",
        "age | geo | sex\\lipro |             P01 | ... |             P15\n",
        "  0 | A11 |         H |  0.190309636993 | ... |   0.14832969697\n",
        "  0 | A11 |         F |  0.444719251373 | ... |  0.857357338422\n",
        "  0 | A12 |         H |  0.238886570471 | ... |  0.319796432449\n",
        "  0 | A12 |         F |  0.525551565311 | ... |  0.318208198697\n",
        "  0 | A13 |         H |  0.996500945466 | ... | 0.0680649644884\n",
        "... | ... |       ... |             ... | ... |             ...\n",
        "115 | A92 |         F | 0.0744904918105 | ... |  0.818109781716\n",
        "115 | A93 |         H | 0.0968159351789 | ... |   0.32785443685\n",
        "115 | A93 |         F |  0.260923731957 | ... |  0.277366470012\n",
        "115 | A21 |         H |  0.647621552761 | ... | 0.0584404925351\n",
        "115 | A21 |         F |  0.583489886972 | ... | 0.0380375565898"
       ]
      }
     ],
     "prompt_number": 5
    },
    {
     "cell_type": "code",
     "collapsed": false,
     "input": [
      "a.info"
     ],
     "language": "python",
     "metadata": {},
     "outputs": [
      {
       "metadata": {},
       "output_type": "pyout",
       "prompt_number": 6,
       "text": [
        "116 x 44 x 2 x 15\n",
        " age [116]: 0 1 2 ... 113 114 115\n",
        " geo [44]: 'A11' 'A12' 'A13' ... 'A91' 'A92' 'A93'\n",
        " sex [2]: 'F' 'H'\n",
        " lipro [15]: 'P01' 'P02' 'P03' ... 'P13' 'P14' 'P15'"
       ]
      }
     ],
     "prompt_number": 6
    },
    {
     "cell_type": "heading",
     "level": 1,
     "metadata": {},
     "source": [
      "Subsets"
     ]
    },
    {
     "cell_type": "code",
     "collapsed": false,
     "input": [
      "a.filter(age=slice(10, 19), sex='F', lipro=':P03')"
     ],
     "language": "python",
     "metadata": {},
     "outputs": [
      {
       "metadata": {},
       "output_type": "pyout",
       "prompt_number": 7,
       "text": [
        "\n",
        "age | geo\\lipro |             P01 |             P02 |            P03\n",
        " 10 |       A11 |  0.535583193122 |  0.907643374199 | 0.543002311716\n",
        " 10 |       A12 |  0.903291912629 | 0.0572099558245 | 0.582381520479\n",
        " 10 |       A13 |  0.469461685932 | 0.0670163452205 |  0.55629091369\n",
        " 10 |       A21 |    0.9734778082 |  0.317804797686 | 0.166550538449\n",
        " 10 |       A23 |  0.478404146288 |  0.491018325693 | 0.559592793556\n",
        "... |       ... |             ... |             ... |            ...\n",
        " 19 |       A84 |   0.80883179013 |  0.992894544001 | 0.044995377724\n",
        " 19 |       A85 | 0.0572309653153 |  0.970772472985 | 0.580846330739\n",
        " 19 |       A91 |  0.604907113218 |  0.765298653884 | 0.215328975058\n",
        " 19 |       A92 |  0.277793215869 | 0.0874388749842 | 0.933196289014\n",
        " 19 |       A93 |  0.451208013092 |   0.37275177365 | 0.528825043318"
       ]
      }
     ],
     "prompt_number": 7
    },
    {
     "cell_type": "code",
     "collapsed": false,
     "input": [
      "age, geo, sex, lipro = a.axes"
     ],
     "language": "python",
     "metadata": {},
     "outputs": [],
     "prompt_number": 8
    },
    {
     "cell_type": "code",
     "collapsed": false,
     "input": [
      "a.filter(age=age[10:19], sex='F', lipro=':P03')"
     ],
     "language": "python",
     "metadata": {},
     "outputs": [
      {
       "metadata": {},
       "output_type": "pyout",
       "prompt_number": 9,
       "text": [
        "\n",
        "age | geo\\lipro |             P01 |             P02 |            P03\n",
        " 10 |       A11 |  0.535583193122 |  0.907643374199 | 0.543002311716\n",
        " 10 |       A12 |  0.903291912629 | 0.0572099558245 | 0.582381520479\n",
        " 10 |       A13 |  0.469461685932 | 0.0670163452205 |  0.55629091369\n",
        " 10 |       A21 |    0.9734778082 |  0.317804797686 | 0.166550538449\n",
        " 10 |       A23 |  0.478404146288 |  0.491018325693 | 0.559592793556\n",
        "... |       ... |             ... |             ... |            ...\n",
        " 19 |       A84 |   0.80883179013 |  0.992894544001 | 0.044995377724\n",
        " 19 |       A85 | 0.0572309653153 |  0.970772472985 | 0.580846330739\n",
        " 19 |       A91 |  0.604907113218 |  0.765298653884 | 0.215328975058\n",
        " 19 |       A92 |  0.277793215869 | 0.0874388749842 | 0.933196289014\n",
        " 19 |       A93 |  0.451208013092 |   0.37275177365 | 0.528825043318"
       ]
      }
     ],
     "prompt_number": 9
    },
    {
     "cell_type": "code",
     "collapsed": false,
     "input": [
      "a[age[10:19], sex['F'], lipro[':P03']].info"
     ],
     "language": "python",
     "metadata": {},
     "outputs": [
      {
       "metadata": {},
       "output_type": "pyout",
       "prompt_number": 10,
       "text": [
        "10 x 44 x 3\n",
        " age [10]: 10 11 12 ... 17 18 19\n",
        " geo [44]: 'A11' 'A12' 'A13' ... 'A91' 'A92' 'A93'\n",
        " lipro [3]: 'P01' 'P02' 'P03'"
       ]
      }
     ],
     "prompt_number": 10
    },
    {
     "cell_type": "code",
     "collapsed": false,
     "input": [
      "a.transpose('geo', 'age')"
     ],
     "language": "python",
     "metadata": {},
     "outputs": [
      {
       "metadata": {},
       "output_type": "pyout",
       "prompt_number": 11,
       "text": [
        "\n",
        "geo | age | sex\\lipro |             P01 |             P02 | ... |             P14 |            P15\n",
        "A11 |   0 |         F |  0.444719251373 |  0.104695980838 | ... |  0.952346693326 | 0.857357338422\n",
        "A11 |   0 |         H |  0.190309636993 |  0.335642369715 | ... |   0.23400284437 |  0.14832969697\n",
        "A11 |   1 |         F |  0.559803413008 |  0.351865844638 | ... |  0.967182623016 | 0.877175711338\n",
        "A11 |   1 |         H |  0.327116891552 |  0.484645912432 | ... | 0.0284835154138 | 0.498051650916\n",
        "A11 |   2 |         F |  0.949967449501 |  0.475757094424 | ... |  0.152028652961 | 0.223858387695\n",
        "... | ... |       ... |             ... |             ... | ... |             ... |            ...\n",
        "A93 | 113 |         H |  0.962987092586 |  0.249248428275 | ... |  0.955409495707 | 0.481918008908\n",
        "A93 | 114 |         F |  0.166778419369 |  0.250749041642 | ... |  0.512821101609 | 0.568783082515\n",
        "A93 | 114 |         H |  0.116064691352 |  0.846064135762 | ... |  0.999957770615 | 0.696735430371\n",
        "A93 | 115 |         F |  0.260923731957 |  0.852319460201 | ... |  0.875187588136 | 0.277366470012\n",
        "A93 | 115 |         H | 0.0968159351789 | 0.0533891559548 | ... |  0.605907315105 |  0.32785443685"
       ]
      }
     ],
     "prompt_number": 11
    },
    {
     "cell_type": "code",
     "collapsed": false,
     "input": [
      "vla = 'A11,A12,A13,A23,A24,A31,A32,A33,A34,A35,A36,A37,A38,A41,A42,' \\\n",
      "      'A43,A44,A45,A46,A71,A72,A73'\n",
      "wal = 'A25,A51,A52,A53,A54,A55,A56,A57,A61,A62,A63,A64,A65,A81,A82,' \\\n",
      "      'A83,A84,A85,A91,A92,A93'\n",
      "bru = 'A21'"
     ],
     "language": "python",
     "metadata": {},
     "outputs": [],
     "prompt_number": 12
    },
    {
     "cell_type": "code",
     "collapsed": false,
     "input": [
      "a[geo[vla]]"
     ],
     "language": "python",
     "metadata": {},
     "outputs": [
      {
       "metadata": {},
       "output_type": "pyout",
       "prompt_number": 13,
       "text": [
        "\n",
        "age | geo | sex\\lipro |             P01 |             P02 | ... |            P14 |            P15\n",
        "  0 | A11 |         F |  0.444719251373 |  0.104695980838 | ... | 0.952346693326 | 0.857357338422\n",
        "  0 | A11 |         H |  0.190309636993 |  0.335642369715 | ... |  0.23400284437 |  0.14832969697\n",
        "  0 | A12 |         F |  0.525551565311 |   0.76756879464 | ... | 0.195849317134 | 0.318208198697\n",
        "  0 | A12 |         H |  0.238886570471 | 0.0196763224555 | ... | 0.180263285931 | 0.319796432449\n",
        "  0 | A13 |         F |  0.392189019207 |  0.612696515983 | ... | 0.199982435325 | 0.574969923834\n",
        "... | ... |       ... |             ... |             ... | ... |            ... |            ...\n",
        "115 | A71 |         H |  0.966296563913 |  0.543436587821 | ... | 0.556138400773 | 0.889400334367\n",
        "115 | A72 |         F | 0.0415274609052 |  0.712388265628 | ... | 0.954952258212 |  0.24686604991\n",
        "115 | A72 |         H |   0.47467660042 | 0.0887625684572 | ... | 0.876874512088 | 0.598036667603\n",
        "115 | A73 |         F |  0.116741064304 |  0.812163030273 | ... | 0.534641776825 |  0.69228208191\n",
        "115 | A73 |         H |  0.317726256191 |  0.392744829078 | ... | 0.865299389507 | 0.516535714438"
       ]
      }
     ],
     "prompt_number": 13
    },
    {
     "cell_type": "heading",
     "level": 1,
     "metadata": {},
     "source": [
      "Aggregates"
     ]
    },
    {
     "cell_type": "heading",
     "level": 2,
     "metadata": {},
     "source": [
      "full axes"
     ]
    },
    {
     "cell_type": "code",
     "collapsed": false,
     "input": [
      "a.sum(geo, age)"
     ],
     "language": "python",
     "metadata": {},
     "outputs": [
      {
       "metadata": {},
       "output_type": "pyout",
       "prompt_number": 14,
       "text": [
        "\n",
        "sex\\lipro |           P01 |           P02 | ... |           P14 |           P15\n",
        "        F | 2524.69770789 | 2549.95634634 | ... | 2524.80212436 | 2518.22600648\n",
        "        H | 2547.29881892 | 2587.16877625 | ... | 2565.67249288 | 2588.22747713"
       ]
      }
     ],
     "prompt_number": 14
    },
    {
     "cell_type": "heading",
     "level": 2,
     "metadata": {},
     "source": [
      "by group"
     ]
    },
    {
     "cell_type": "code",
     "collapsed": false,
     "input": [
      "a.sum(age, geo[vla])"
     ],
     "language": "python",
     "metadata": {},
     "outputs": [
      {
       "metadata": {},
       "output_type": "pyout",
       "prompt_number": 15,
       "text": [
        "\n",
        "sex\\lipro |           P01 |           P02 | ... |           P14 |           P15\n",
        "        F | 1257.41891451 | 1262.11178447 | ... |  1249.2718058 | 1261.63605388\n",
        "        H | 1258.84650127 | 1282.23536837 | ... | 1269.91668621 | 1301.38479936"
       ]
      }
     ],
     "prompt_number": 15
    },
    {
     "cell_type": "code",
     "collapsed": false,
     "input": [
      "a.sum(age, geo=(vla, wal, bru))"
     ],
     "language": "python",
     "metadata": {},
     "outputs": [
      {
       "metadata": {},
       "output_type": "pyout",
       "prompt_number": 16,
       "text": [
        "\n",
        "                                                                                    geo | sex\\lipro | ...\n",
        "A11,A12,A13,A23,A24,A31,A32,A33,A34,A35,A36,A37,A38,A41,A42,A43,A44,A45,A46,A71,A72,A73 |         F | ...\n",
        "A11,A12,A13,A23,A24,A31,A32,A33,A34,A35,A36,A37,A38,A41,A42,A43,A44,A45,A46,A71,A72,A73 |         H | ...\n",
        "    A25,A51,A52,A53,A54,A55,A56,A57,A61,A62,A63,A64,A65,A81,A82,A83,A84,A85,A91,A92,A93 |         F | ...\n",
        "    A25,A51,A52,A53,A54,A55,A56,A57,A61,A62,A63,A64,A65,A81,A82,A83,A84,A85,A91,A92,A93 |         H | ...\n",
        "                                                                                    A21 |         F | ...\n",
        "                                                                                    A21 |         H | ..."
       ]
      }
     ],
     "prompt_number": 16
    },
    {
     "cell_type": "heading",
     "level": 2,
     "metadata": {},
     "source": [
      "Using named groups"
     ]
    },
    {
     "cell_type": "code",
     "collapsed": false,
     "input": [
      "vla = geo.group(vla, name='Flanders')\n",
      "wal = geo.group(wal, name='wal')\n",
      "bru = geo.group(bru, name='bru')\n",
      "bel = geo.all('belgium')"
     ],
     "language": "python",
     "metadata": {},
     "outputs": [],
     "prompt_number": 17
    },
    {
     "cell_type": "code",
     "collapsed": false,
     "input": [
      "b = a.sum(age, geo=(vla, wal, bru, bel))"
     ],
     "language": "python",
     "metadata": {},
     "outputs": [],
     "prompt_number": 18
    },
    {
     "cell_type": "code",
     "collapsed": false,
     "input": [
      "agg.to_"
     ],
     "language": "python",
     "metadata": {},
     "outputs": [],
     "prompt_number": 32
    },
    {
     "cell_type": "heading",
     "level": 3,
     "metadata": {},
     "source": [
      "Operations on aggregated arrays"
     ]
    },
    {
     "cell_type": "code",
     "collapsed": false,
     "input": [
      "aggvla = agg[vla]"
     ],
     "language": "python",
     "metadata": {},
     "outputs": [],
     "prompt_number": 20
    },
    {
     "cell_type": "code",
     "collapsed": false,
     "input": [
      "aggvla"
     ],
     "language": "python",
     "metadata": {},
     "outputs": [
      {
       "metadata": {},
       "output_type": "pyout",
       "prompt_number": 21,
       "text": [
        "\n",
        "sex\\lipro |           P01 |           P02 | ... |           P14 |           P15\n",
        "        F | 1257.41891451 | 1262.11178447 | ... |  1249.2718058 | 1261.63605388\n",
        "        H | 1258.84650127 | 1282.23536837 | ... | 1269.91668621 | 1301.38479936"
       ]
      }
     ],
     "prompt_number": 21
    },
    {
     "cell_type": "code",
     "collapsed": false,
     "input": [
      "aggvla.sum(lipro='P01,P02;P03:P05;P07:P11')"
     ],
     "language": "python",
     "metadata": {},
     "outputs": [
      {
       "metadata": {},
       "output_type": "pyout",
       "prompt_number": 22,
       "text": [
        "\n",
        "sex\\lipro |       P01,P02 |       P03:P05 |       P07:P11\n",
        "        F | 2519.53069898 | 3834.76571855 | 6383.13302993\n",
        "        H | 2541.08186964 | 3855.37262749 | 6396.31174074"
       ]
      }
     ],
     "prompt_number": 22
    },
    {
     "cell_type": "code",
     "collapsed": false,
     "input": [
      "# does not work yet (no idea why)\n",
      "# aggvla.sum(sex='H;F;H,F')"
     ],
     "language": "python",
     "metadata": {},
     "outputs": [],
     "prompt_number": 23
    },
    {
     "cell_type": "code",
     "collapsed": false,
     "input": [
      "agg[vla, lipro['P01']] + agg[vla, lipro['P02']]"
     ],
     "language": "python",
     "metadata": {},
     "outputs": [
      {
       "metadata": {},
       "output_type": "pyout",
       "prompt_number": 24,
       "text": [
        "\n",
        "sex |             F |             H\n",
        "    | 2519.53069898 | 2541.08186964"
       ]
      }
     ],
     "prompt_number": 24
    },
    {
     "cell_type": "heading",
     "level": 1,
     "metadata": {},
     "source": [
      "Arithmetic operations"
     ]
    },
    {
     "cell_type": "code",
     "collapsed": false,
     "input": [
      "aggvla / aggvla.sum() * 100"
     ],
     "language": "python",
     "metadata": {},
     "outputs": [
      {
       "metadata": {},
       "output_type": "pyout",
       "prompt_number": 34,
       "text": [
        "\n",
        "sex\\lipro |           P01 |           P02 | ... |           P14 |           P15\n",
        "        F | 3.28078522152 | 3.29302958834 | ... | 3.25952825337 |  3.2917883394\n",
        "        H | 3.28450999892 |  3.3455348878 | ... | 3.31339368974 | 3.39549848344"
       ]
      }
     ],
     "prompt_number": 34
    },
    {
     "cell_type": "code",
     "collapsed": false,
     "input": [
      "aggvla * 2 / aggvla"
     ],
     "language": "python",
     "metadata": {},
     "outputs": [
      {
       "metadata": {},
       "output_type": "pyout",
       "prompt_number": 26,
       "text": [
        "\n",
        "sex\\lipro | P01 | P02 | P03 | P04 | P05 | ... | P11 | P12 | P13 | P14 | P15\n",
        "        F | 2.0 | 2.0 | 2.0 | 2.0 | 2.0 | ... | 2.0 | 2.0 | 2.0 | 2.0 | 2.0\n",
        "        H | 2.0 | 2.0 | 2.0 | 2.0 | 2.0 | ... | 2.0 | 2.0 | 2.0 | 2.0 | 2.0"
       ]
      }
     ],
     "prompt_number": 26
    },
    {
     "cell_type": "heading",
     "level": 2,
     "metadata": {},
     "source": [
      "on arrays with a different axis order"
     ]
    },
    {
     "cell_type": "code",
     "collapsed": false,
     "input": [
      "t = aggvla.transpose()"
     ],
     "language": "python",
     "metadata": {},
     "outputs": [],
     "prompt_number": 27
    },
    {
     "cell_type": "code",
     "collapsed": false,
     "input": [
      "t"
     ],
     "language": "python",
     "metadata": {},
     "outputs": [
      {
       "metadata": {},
       "output_type": "pyout",
       "prompt_number": 28,
       "text": [
        "\n",
        "lipro\\sex |             F |             H\n",
        "      P01 | 1257.41891451 | 1258.84650127\n",
        "      P02 | 1262.11178447 | 1282.23536837\n",
        "      P03 |  1269.8737265 | 1278.89450299\n",
        "      P04 | 1290.02428115 | 1287.85009927\n",
        "      P05 |  1274.8677109 | 1288.62802523\n",
        "      P06 | 1277.25384401 | 1291.28395492\n",
        "      P07 | 1273.77730123 | 1277.97810064\n",
        "      P08 | 1276.36834354 | 1287.65325021\n",
        "      P09 | 1303.26548186 |  1276.8684769\n",
        "      P10 | 1255.26751446 | 1271.02951343\n",
        "      P11 | 1274.45438884 | 1282.78239956\n",
        "      P12 | 1282.53299787 | 1267.04452183\n",
        "      P13 | 1298.07892426 | 1298.16793633\n",
        "      P14 |  1249.2718058 | 1269.91668621\n",
        "      P15 | 1261.63605388 | 1301.38479936"
       ]
      }
     ],
     "prompt_number": 28
    },
    {
     "cell_type": "code",
     "collapsed": false,
     "input": [
      "aggvla + t"
     ],
     "language": "python",
     "metadata": {},
     "outputs": [
      {
       "metadata": {},
       "output_type": "pyout",
       "prompt_number": 29,
       "text": [
        "\n",
        "sex\\lipro |           P01 |           P02 | ... |           P14 |           P15\n",
        "        F | 2514.83782901 | 2524.22356894 | ... | 2498.54361161 | 2523.27210776\n",
        "        H | 2517.69300253 | 2564.47073674 | ... | 2539.83337242 | 2602.76959872"
       ]
      }
     ],
     "prompt_number": 29
    },
    {
     "cell_type": "heading",
     "level": 2,
     "metadata": {},
     "source": [
      "with missing axes"
     ]
    },
    {
     "cell_type": "code",
     "collapsed": false,
     "input": [
      "agg / agg[vla]"
     ],
     "language": "python",
     "metadata": {},
     "outputs": [
      {
       "metadata": {},
       "output_type": "pyout",
       "prompt_number": 30,
       "text": [
        "\n",
        "     geo | sex\\lipro |             P01 | ... |             P15\n",
        "Flanders |         F |             1.0 | ... |             1.0\n",
        "Flanders |         H |             1.0 | ... |             1.0\n",
        "     wal |         F |  0.957174200585 | ... |  0.951101552226\n",
        "     wal |         H |  0.980152428259 | ... |   0.94624573877\n",
        "     bru |         F | 0.0506671629946 | ... | 0.0448987988484\n",
        "     bru |         H |  0.043365781748 | ... | 0.0425799171032\n",
        " belgium |         F |   2.00784136358 | ... |   1.99600035107\n",
        " belgium |         H |   2.02351821001 | ... |   1.98882565587"
       ]
      }
     ],
     "prompt_number": 30
    },
    {
     "cell_type": "code",
     "collapsed": false,
     "input": [
      "agg / agg.sum(sex)"
     ],
     "language": "python",
     "metadata": {},
     "outputs": [
      {
       "metadata": {},
       "output_type": "pyout",
       "prompt_number": 31,
       "text": [
        "\n",
        "     geo | sex\\lipro |            P01 | ... |            P15\n",
        "Flanders |         F | 0.499716328263 | ... | 0.492245723356\n",
        "Flanders |         H | 0.500283671737 | ... | 0.507754276644\n",
        "     wal |         F | 0.493785974209 | ... | 0.493525098585\n",
        "     wal |         H | 0.506214025791 | ... | 0.506474901415\n",
        "     bru |         F | 0.538541553694 | ... | 0.505501962023\n",
        "     bru |         H | 0.461458446306 | ... | 0.494498037977\n",
        " belgium |         F | 0.497771970968 | ... | 0.493145783969\n",
        " belgium |         H | 0.502228029032 | ... | 0.506854216031"
       ]
      }
     ],
     "prompt_number": 31
    },
    {
     "cell_type": "code",
     "collapsed": false,
     "input": [],
     "language": "python",
     "metadata": {},
     "outputs": [],
     "prompt_number": 31
    }
   ],
   "metadata": {}
  }
 ]
}