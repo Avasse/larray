{
 "metadata": {
  "celltoolbar": "Raw Cell Format",
  "name": "",
  "signature": "sha256:958551ebd86feac08d2cc82be6e5015e931d24eefc9697f2b958e34a6dd82188"
 },
 "nbformat": 3,
 "nbformat_minor": 0,
 "worksheets": [
  {
   "cells": [
    {
     "cell_type": "code",
     "collapsed": false,
     "input": [
      "from larray import *"
     ],
     "language": "python",
     "metadata": {},
     "outputs": [],
     "prompt_number": 2
    },
    {
     "cell_type": "heading",
     "level": 2,
     "metadata": {},
     "source": [
      "Loading"
     ]
    },
    {
     "cell_type": "code",
     "collapsed": false,
     "input": [
      "a = read_csv('test.csv')"
     ],
     "language": "python",
     "metadata": {},
     "outputs": [],
     "prompt_number": 3
    },
    {
     "cell_type": "code",
     "collapsed": false,
     "input": [
      "a"
     ],
     "language": "python",
     "metadata": {},
     "outputs": [
      {
       "metadata": {},
       "output_type": "pyout",
       "prompt_number": 4,
       "text": [
        "\n",
        "age | geo | sex\\lipro |               p01 |             p02 | ... |             p14 |            p15\n",
        "  0 | A11 |         F |     0.75855248304 |  0.693872979814 | ... |  0.383254159452 | 0.793161211607\n",
        "  0 | A11 |         H |    0.668854422352 | 0.0376059619919 | ... |  0.686858789035 |  0.30979163783\n",
        "  0 | A12 |         F |    0.417450209563 |  0.149372133885 | ... |  0.842063762991 | 0.402515717551\n",
        "  0 | A12 |         H |    0.314309233292 |  0.563827719724 | ... |  0.262676449687 | 0.471763401789\n",
        "  0 | A13 |         F |    0.995487751482 |  0.992067356146 | ... |  0.280362405542 | 0.617166886852\n",
        "... | ... |       ... |               ... |             ... | ... |             ... |            ...\n",
        "115 | A91 |         H |    0.481724892607 |  0.372443755966 | ... |  0.303815441416 | 0.236813348199\n",
        "115 | A92 |         F |    0.327695671322 |  0.572358110697 | ... |  0.433911655829 | 0.761581111946\n",
        "115 | A92 |         H |    0.957425689347 |  0.579344187455 | ... |  0.894199095489 | 0.762650935694\n",
        "115 | A93 |         F | 0.000884998592067 |  0.838716214915 | ... | 0.0662629828389 | 0.559637960433\n",
        "115 | A93 |         H |    0.177279668293 |  0.710137592292 | ... |  0.830251021661 | 0.981382475774"
       ]
      }
     ],
     "prompt_number": 4
    },
    {
     "cell_type": "code",
     "collapsed": false,
     "input": [
      "read_csv('test.csv', sort_rows=False) # this is less efficient"
     ],
     "language": "python",
     "metadata": {},
     "outputs": [
      {
       "metadata": {},
       "output_type": "pyout",
       "prompt_number": 5,
       "text": [
        "\n",
        "age | geo | sex\\lipro |               p01 |             p02 | ... |             p14 |            p15\n",
        "  0 | A11 |         H |    0.668854422352 | 0.0376059619919 | ... |  0.686858789035 |  0.30979163783\n",
        "  0 | A11 |         F |     0.75855248304 |  0.693872979814 | ... |  0.383254159452 | 0.793161211607\n",
        "  0 | A12 |         H |    0.314309233292 |  0.563827719724 | ... |  0.262676449687 | 0.471763401789\n",
        "  0 | A12 |         F |    0.417450209563 |  0.149372133885 | ... |  0.842063762991 | 0.402515717551\n",
        "  0 | A13 |         H |    0.188513450344 |  0.936639641599 | ... |  0.537113369216 | 0.166630231969\n",
        "... | ... |       ... |               ... |             ... | ... |             ... |            ...\n",
        "115 | A92 |         F |    0.327695671322 |  0.572358110697 | ... |  0.433911655829 | 0.761581111946\n",
        "115 | A93 |         H |    0.177279668293 |  0.710137592292 | ... |  0.830251021661 | 0.981382475774\n",
        "115 | A93 |         F | 0.000884998592067 |  0.838716214915 | ... | 0.0662629828389 | 0.559637960433\n",
        "115 | A21 |         H |    0.886919131513 |  0.356640301942 | ... |  0.363741993326 | 0.528099559253\n",
        "115 | A21 |         F |    0.445025411768 |  0.036338797045 | ... |  0.336746572464 | 0.804422784704"
       ]
      }
     ],
     "prompt_number": 5
    },
    {
     "cell_type": "code",
     "collapsed": false,
     "input": [
      "a.info"
     ],
     "language": "python",
     "metadata": {},
     "outputs": [
      {
       "metadata": {},
       "output_type": "pyout",
       "prompt_number": 6,
       "text": [
        "116 x 44 x 2 x 15\n",
        " age [116]: 0 1 2 ... 113 114 115\n",
        " geo [44]: 'A11' 'A12' 'A13' ... 'A91' 'A92' 'A93'\n",
        " sex [2]: 'F' 'H'\n",
        " lipro [15]: 'p01' 'p02' 'p03' ... 'p13' 'p14' 'p15'"
       ]
      }
     ],
     "prompt_number": 6
    },
    {
     "cell_type": "heading",
     "level": 1,
     "metadata": {},
     "source": [
      "Subsets"
     ]
    },
    {
     "cell_type": "code",
     "collapsed": false,
     "input": [
      "a.filter(age=slice(10, 19), sex='F', lipro=':p03')"
     ],
     "language": "python",
     "metadata": {},
     "outputs": [
      {
       "metadata": {},
       "output_type": "pyout",
       "prompt_number": 7,
       "text": [
        "\n",
        "age | geo\\lipro |              p01 |             p02 |             p03\n",
        " 10 |       A11 |  0.0596712500904 |  0.853426607453 |  0.183091506613\n",
        " 10 |       A12 |   0.485927181579 |  0.613235808559 |  0.250722275443\n",
        " 10 |       A13 |   0.945770518216 |  0.490276103996 |  0.825015454071\n",
        " 10 |       A21 |   0.971776411644 | 0.0259673509533 |  0.429997228237\n",
        " 10 |       A23 | 0.00485059190783 |  0.409193033754 |  0.682915235629\n",
        "... |       ... |              ... |             ... |             ...\n",
        " 19 |       A84 |   0.759479860087 |  0.115864098322 |  0.251344644299\n",
        " 19 |       A85 |   0.626508893593 |  0.364563369352 | 0.0620637973743\n",
        " 19 |       A91 |  0.0403508069942 |  0.462213913605 |  0.355056995982\n",
        " 19 |       A92 |   0.903522468328 |   0.11301661296 |  0.356988520868\n",
        " 19 |       A93 |   0.917546048206 |  0.445464917961 |  0.786723299744"
       ]
      }
     ],
     "prompt_number": 7
    },
    {
     "cell_type": "code",
     "collapsed": false,
     "input": [
      "age, geo, sex, lipro = a.axes"
     ],
     "language": "python",
     "metadata": {},
     "outputs": [],
     "prompt_number": 8
    },
    {
     "cell_type": "code",
     "collapsed": false,
     "input": [
      "a.filter(age=age[10:19], sex='F', lipro=':p03')"
     ],
     "language": "python",
     "metadata": {},
     "outputs": [
      {
       "metadata": {},
       "output_type": "pyout",
       "prompt_number": 9,
       "text": [
        "\n",
        "age | geo\\lipro |              p01 |             p02 |             p03\n",
        " 10 |       A11 |  0.0596712500904 |  0.853426607453 |  0.183091506613\n",
        " 10 |       A12 |   0.485927181579 |  0.613235808559 |  0.250722275443\n",
        " 10 |       A13 |   0.945770518216 |  0.490276103996 |  0.825015454071\n",
        " 10 |       A21 |   0.971776411644 | 0.0259673509533 |  0.429997228237\n",
        " 10 |       A23 | 0.00485059190783 |  0.409193033754 |  0.682915235629\n",
        "... |       ... |              ... |             ... |             ...\n",
        " 19 |       A84 |   0.759479860087 |  0.115864098322 |  0.251344644299\n",
        " 19 |       A85 |   0.626508893593 |  0.364563369352 | 0.0620637973743\n",
        " 19 |       A91 |  0.0403508069942 |  0.462213913605 |  0.355056995982\n",
        " 19 |       A92 |   0.903522468328 |   0.11301661296 |  0.356988520868\n",
        " 19 |       A93 |   0.917546048206 |  0.445464917961 |  0.786723299744"
       ]
      }
     ],
     "prompt_number": 9
    },
    {
     "cell_type": "code",
     "collapsed": false,
     "input": [
      "a[age[10:19], sex['F'], lipro[':p03']].info"
     ],
     "language": "python",
     "metadata": {},
     "outputs": [
      {
       "metadata": {},
       "output_type": "pyout",
       "prompt_number": 34,
       "text": [
        "10 x 44 x 3\n",
        " age [10]: 10 11 12 ... 17 18 19\n",
        " geo [44]: 'A11' 'A12' 'A13' ... 'A91' 'A92' 'A93'\n",
        " lipro [3]: 'p01' 'p02' 'p03'"
       ]
      }
     ],
     "prompt_number": 34
    },
    {
     "cell_type": "code",
     "collapsed": false,
     "input": [
      "a.transpose(3, 2)"
     ],
     "language": "python",
     "metadata": {},
     "outputs": [
      {
       "metadata": {},
       "output_type": "pyout",
       "prompt_number": 40,
       "text": [
        "\n",
        "lipro | sex | age\\geo |             A11 |             A12 | ... |             A92 |             A93\n",
        "  p01 |   F |       0 |   0.75855248304 |  0.417450209563 | ... |  0.943436696221 | 0.0947703762792\n",
        "  p01 |   F |       1 |  0.985632283404 |  0.247708945491 | ... |  0.548945018102 |  0.506813870819\n",
        "  p01 |   F |       2 |  0.364083784566 |  0.824483735636 | ... |  0.997821438861 |  0.343321634744\n",
        "  p01 |   F |       3 |  0.490967578311 | 0.0257651095618 | ... |  0.307261747942 |   0.74398800443\n",
        "  p01 |   F |       4 |  0.548573268623 |  0.448209167175 | ... |  0.785278577189 |  0.235113703739\n",
        "  ... | ... |     ... |             ... |             ... | ... |             ... |             ...\n",
        "  p15 |   H |     111 | 0.0507532288023 | 0.0844413785786 | ... |  0.522476187851 |  0.572994029355\n",
        "  p15 |   H |     112 |  0.762085799687 |  0.455421734081 | ... | 0.0165864308053 |  0.364115558122\n",
        "  p15 |   H |     113 |  0.441240286308 |  0.203506279534 | ... |  0.222550593376 |  0.251444343058\n",
        "  p15 |   H |     114 | 0.0553146797771 |  0.242535992098 | ... | 0.0368428908165 |  0.102998731608\n",
        "  p15 |   H |     115 | 0.0703674865977 |  0.320916447149 | ... |  0.762650935694 |  0.981382475774"
       ]
      }
     ],
     "prompt_number": 40
    },
    {
     "cell_type": "code",
     "collapsed": false,
     "input": [
      "vla = 'A11,A12,A13,A23,A24,A31,A32,A33,A34,A35,A36,A37,A38,A41,A42,' \\\n",
      "      'A43,A44,A45,A46,A71,A72,A73'\n",
      "wal = 'A25,A51,A52,A53,A54,A55,A56,A57,A61,A62,A63,A64,A65,A81,A82,' \\\n",
      "      'A83,A84,A85,A91,A92,A93'\n",
      "bru = 'A21'"
     ],
     "language": "python",
     "metadata": {},
     "outputs": [],
     "prompt_number": 11
    },
    {
     "cell_type": "code",
     "collapsed": false,
     "input": [
      "a[geo[vla]]"
     ],
     "language": "python",
     "metadata": {},
     "outputs": [
      {
       "metadata": {},
       "output_type": "pyout",
       "prompt_number": 12,
       "text": [
        "\n",
        "age | geo | sex\\lipro |              p01 |             p02 | ... |            p14 |             p15\n",
        "  0 | A11 |         F |    0.75855248304 |  0.693872979814 | ... | 0.383254159452 |  0.793161211607\n",
        "  0 | A11 |         H |   0.668854422352 | 0.0376059619919 | ... | 0.686858789035 |   0.30979163783\n",
        "  0 | A12 |         F |   0.417450209563 |  0.149372133885 | ... | 0.842063762991 |  0.402515717551\n",
        "  0 | A12 |         H |   0.314309233292 |  0.563827719724 | ... | 0.262676449687 |  0.471763401789\n",
        "  0 | A13 |         F |   0.995487751482 |  0.992067356146 | ... | 0.280362405542 |  0.617166886852\n",
        "... | ... |       ... |              ... |             ... | ... |            ... |             ...\n",
        "115 | A71 |         H |   0.563164109157 |  0.399784960788 | ... | 0.697902161357 |  0.745358820878\n",
        "115 | A72 |         F |   0.604751870036 |  0.790663910959 | ... | 0.822132362451 |  0.972438526606\n",
        "115 | A72 |         H |   0.172638776468 |  0.761148107348 | ... | 0.960376079772 | 0.0132299210766\n",
        "115 | A73 |         F | 0.00790100739838 |  0.326507214756 | ... | 0.229005614382 |  0.459970813793\n",
        "115 | A73 |         H |   0.234358292078 |  0.572833159316 | ... | 0.605927555759 |  0.990267498375"
       ]
      }
     ],
     "prompt_number": 12
    },
    {
     "cell_type": "heading",
     "level": 1,
     "metadata": {},
     "source": [
      "Aggregates"
     ]
    },
    {
     "cell_type": "heading",
     "level": 2,
     "metadata": {},
     "source": [
      "full axes"
     ]
    },
    {
     "cell_type": "code",
     "collapsed": false,
     "input": [
      "a.sum(geo, age)"
     ],
     "language": "python",
     "metadata": {},
     "outputs": [
      {
       "metadata": {},
       "output_type": "pyout",
       "prompt_number": 13,
       "text": [
        "\n",
        "sex\\lipro |           p01 |           p02 | ... |           p14 |           p15\n",
        "        F | 2570.68612504 |  2561.5005704 | ... | 2571.79494193 | 2516.01925712\n",
        "        H |  2542.1633315 | 2530.75291182 | ... | 2556.78965961 |  2523.5275171"
       ]
      }
     ],
     "prompt_number": 13
    },
    {
     "cell_type": "heading",
     "level": 2,
     "metadata": {},
     "source": [
      "by group"
     ]
    },
    {
     "cell_type": "code",
     "collapsed": false,
     "input": [
      "a.sum(age, geo=geo[vla])"
     ],
     "language": "python",
     "metadata": {},
     "outputs": [
      {
       "metadata": {},
       "output_type": "pyout",
       "prompt_number": 14,
       "text": [
        "\n",
        "sex\\lipro |           p01 |           p02 | ... |           p14 |           p15\n",
        "        F | 1278.58268625 | 1287.12754274 | ... | 1291.56270382 | 1265.50058462\n",
        "        H | 1249.78878133 | 1260.99686941 | ... |  1292.7328043 | 1253.42812477"
       ]
      }
     ],
     "prompt_number": 14
    },
    {
     "cell_type": "code",
     "collapsed": false,
     "input": [
      "a.sum(age, geo=(vla, wal, bru))"
     ],
     "language": "python",
     "metadata": {},
     "outputs": [
      {
       "metadata": {},
       "output_type": "pyout",
       "prompt_number": 15,
       "text": [
        "\n",
        "                                                                                    geo | sex\\lipro | ...\n",
        "A11,A12,A13,A23,A24,A31,A32,A33,A34,A35,A36,A37,A38,A41,A42,A43,A44,A45,A46,A71,A72,A73 |         F | ...\n",
        "A11,A12,A13,A23,A24,A31,A32,A33,A34,A35,A36,A37,A38,A41,A42,A43,A44,A45,A46,A71,A72,A73 |         H | ...\n",
        "    A25,A51,A52,A53,A54,A55,A56,A57,A61,A62,A63,A64,A65,A81,A82,A83,A84,A85,A91,A92,A93 |         F | ...\n",
        "    A25,A51,A52,A53,A54,A55,A56,A57,A61,A62,A63,A64,A65,A81,A82,A83,A84,A85,A91,A92,A93 |         H | ...\n",
        "                                                                                    A21 |         F | ...\n",
        "                                                                                    A21 |         H | ..."
       ]
      }
     ],
     "prompt_number": 15
    },
    {
     "cell_type": "heading",
     "level": 2,
     "metadata": {},
     "source": [
      "Using named groups"
     ]
    },
    {
     "cell_type": "code",
     "collapsed": false,
     "input": [
      "vla = geo.group(vla, name='Flanders')\n",
      "wal = geo.group(wal, name='wal')\n",
      "bru = geo.group(bru, name='bru')\n",
      "bel = geo.all('belgium')"
     ],
     "language": "python",
     "metadata": {},
     "outputs": [],
     "prompt_number": 42
    },
    {
     "cell_type": "code",
     "collapsed": false,
     "input": [
      "agg = a.sum(age, geo=(vla, wal, bru, bel))"
     ],
     "language": "python",
     "metadata": {},
     "outputs": [],
     "prompt_number": 43
    },
    {
     "cell_type": "code",
     "collapsed": false,
     "input": [
      "agg"
     ],
     "language": "python",
     "metadata": {},
     "outputs": [
      {
       "metadata": {},
       "output_type": "pyout",
       "prompt_number": 45,
       "text": [
        "\n",
        "    geo | sex\\lipro |           p01 | ... |           p15\n",
        "    vla |         F | 1278.58268625 | ... | 1265.50058462\n",
        "    vla |         H | 1249.78878133 | ... | 1253.42812477\n",
        "    wal |         F | 1235.28153787 | ... | 1191.54416846\n",
        "    wal |         H | 1233.62866739 | ... | 1212.36367845\n",
        "    bru |         F | 56.8219009165 | ... | 58.9745040497\n",
        "    bru |         H | 58.7458827729 | ... | 57.7357138735\n",
        "belgium |         F | 2570.68612504 | ... | 2516.01925712\n",
        "belgium |         H |  2542.1633315 | ... |  2523.5275171"
       ]
      }
     ],
     "prompt_number": 45
    },
    {
     "cell_type": "heading",
     "level": 3,
     "metadata": {},
     "source": [
      "Operations on aggregated arrays"
     ]
    },
    {
     "cell_type": "code",
     "collapsed": false,
     "input": [
      "aggvla = agg[vla]"
     ],
     "language": "python",
     "metadata": {},
     "outputs": [],
     "prompt_number": 19
    },
    {
     "cell_type": "code",
     "collapsed": false,
     "input": [
      "aggvla"
     ],
     "language": "python",
     "metadata": {},
     "outputs": [
      {
       "metadata": {},
       "output_type": "pyout",
       "prompt_number": 20,
       "text": [
        "\n",
        "sex\\lipro |           p01 |           p02 | ... |           p14 |           p15\n",
        "        F | 1278.58268625 | 1287.12754274 | ... | 1291.56270382 | 1265.50058462\n",
        "        H | 1249.78878133 | 1260.99686941 | ... |  1292.7328043 | 1253.42812477"
       ]
      }
     ],
     "prompt_number": 20
    },
    {
     "cell_type": "code",
     "collapsed": false,
     "input": [
      "aggvla.sum(lipro='p01,p02;p03:p05;p07:p11')"
     ],
     "language": "python",
     "metadata": {},
     "outputs": [
      {
       "metadata": {},
       "output_type": "pyout",
       "prompt_number": 21,
       "text": [
        "\n",
        "sex\\lipro |       p01,p02 |       p03:p05 |       p07:p11\n",
        "        F | 2565.71022899 | 3788.18832721 |  6371.3144205\n",
        "        H | 2510.78565074 | 3832.59784186 | 6383.67507037"
       ]
      }
     ],
     "prompt_number": 21
    },
    {
     "cell_type": "code",
     "collapsed": false,
     "input": [
      "# does not work yet (no idea why)\n",
      "# aggvla.sum(sex='H;F;H,F')"
     ],
     "language": "python",
     "metadata": {},
     "outputs": [],
     "prompt_number": 22
    },
    {
     "cell_type": "code",
     "collapsed": false,
     "input": [
      "agg[vla, lipro['p01']] + agg[vla, lipro['p02']]"
     ],
     "language": "python",
     "metadata": {},
     "outputs": [
      {
       "metadata": {},
       "output_type": "pyout",
       "prompt_number": 46,
       "text": [
        "\n",
        "sex |             F |             H\n",
        "    | 2565.71022899 | 2510.78565074"
       ]
      }
     ],
     "prompt_number": 46
    },
    {
     "cell_type": "heading",
     "level": 1,
     "metadata": {},
     "source": [
      "Arithmetic operations"
     ]
    },
    {
     "cell_type": "code",
     "collapsed": false,
     "input": [
      "aggvla + 1"
     ],
     "language": "python",
     "metadata": {},
     "outputs": [
      {
       "metadata": {},
       "output_type": "pyout",
       "prompt_number": 24,
       "text": [
        "\n",
        "sex\\lipro |           p01 |           p02 | ... |           p14 |           p15\n",
        "        F | 1279.58268625 | 1288.12754274 | ... | 1292.56270382 | 1266.50058462\n",
        "        H | 1250.78878133 | 1261.99686941 | ... |  1293.7328043 | 1254.42812477"
       ]
      }
     ],
     "prompt_number": 24
    },
    {
     "cell_type": "code",
     "collapsed": false,
     "input": [
      "aggvla * 2 / aggvla"
     ],
     "language": "python",
     "metadata": {},
     "outputs": [
      {
       "metadata": {},
       "output_type": "pyout",
       "prompt_number": 25,
       "text": [
        "\n",
        "sex\\lipro | p01 | p02 | p03 | p04 | p05 | ... | p11 | p12 | p13 | p14 | p15\n",
        "        F | 2.0 | 2.0 | 2.0 | 2.0 | 2.0 | ... | 2.0 | 2.0 | 2.0 | 2.0 | 2.0\n",
        "        H | 2.0 | 2.0 | 2.0 | 2.0 | 2.0 | ... | 2.0 | 2.0 | 2.0 | 2.0 | 2.0"
       ]
      }
     ],
     "prompt_number": 25
    },
    {
     "cell_type": "heading",
     "level": 2,
     "metadata": {},
     "source": [
      "on arrays with a different axis order"
     ]
    },
    {
     "cell_type": "code",
     "collapsed": false,
     "input": [
      "t = aggvla.transpose()"
     ],
     "language": "python",
     "metadata": {},
     "outputs": [],
     "prompt_number": 26
    },
    {
     "cell_type": "code",
     "collapsed": false,
     "input": [
      "t"
     ],
     "language": "python",
     "metadata": {},
     "outputs": [
      {
       "metadata": {},
       "output_type": "pyout",
       "prompt_number": 27,
       "text": [
        "\n",
        "lipro\\sex |             F |             H\n",
        "      p01 | 1278.58268625 | 1249.78878133\n",
        "      p02 | 1287.12754274 | 1260.99686941\n",
        "      p03 |  1268.1038239 | 1281.72358546\n",
        "      p04 | 1247.26238841 | 1273.57589078\n",
        "      p05 |  1272.8221149 | 1277.29836562\n",
        "      p06 | 1277.82428813 | 1246.42773305\n",
        "      p07 | 1293.70722063 | 1262.19269374\n",
        "      p08 | 1271.57094763 | 1259.35177896\n",
        "      p09 | 1259.06399214 | 1305.81818693\n",
        "      p10 | 1299.02498825 |  1253.2221078\n",
        "      p11 | 1247.94727184 | 1303.09030294\n",
        "      p12 | 1280.90513602 | 1295.46807459\n",
        "      p13 | 1267.01335522 |  1269.4713557\n",
        "      p14 | 1291.56270382 |  1292.7328043\n",
        "      p15 | 1265.50058462 | 1253.42812477"
       ]
      }
     ],
     "prompt_number": 27
    },
    {
     "cell_type": "code",
     "collapsed": false,
     "input": [
      "(aggvla > 1270).all()"
     ],
     "language": "python",
     "metadata": {},
     "outputs": [
      {
       "metadata": {},
       "output_type": "pyout",
       "prompt_number": 53,
       "text": [
        "False"
       ]
      }
     ],
     "prompt_number": 53
    },
    {
     "cell_type": "heading",
     "level": 2,
     "metadata": {},
     "source": [
      "with missing axes"
     ]
    },
    {
     "cell_type": "code",
     "collapsed": false,
     "input": [
      "agg / agg[vla]"
     ],
     "language": "python",
     "metadata": {},
     "outputs": [
      {
       "metadata": {},
       "output_type": "pyout",
       "prompt_number": 55,
       "text": [
        "\n",
        "    geo | sex\\lipro |             p01 | ... |             p15\n",
        "    vla |         F |             1.0 | ... |             1.0\n",
        "    vla |         H |             1.0 | ... |             1.0\n",
        "    wal |         F |  0.966133478228 | ... |  0.941559555913\n",
        "    wal |         H |  0.987069723956 | ... |  0.967238291923\n",
        "    bru |         F | 0.0444413189132 | ... | 0.0466017201151\n",
        "    bru |         H | 0.0470046488258 | ... | 0.0460622453992\n",
        "belgium |         F |   2.01057479714 | ... |   1.98816127603\n",
        "belgium |         H |   2.03407437278 | ... |   2.01330053732"
       ]
      }
     ],
     "prompt_number": 55
    },
    {
     "cell_type": "code",
     "collapsed": false,
     "input": [
      "agg / agg.sum(sex)"
     ],
     "language": "python",
     "metadata": {},
     "outputs": [
      {
       "metadata": {},
       "output_type": "pyout",
       "prompt_number": 30,
       "text": [
        "\n",
        "    geo | sex\\lipro |            p01 | ... |            p15\n",
        "    vla |         F |  0.50569416031 | ... | 0.502396348059\n",
        "    vla |         H |  0.49430583969 | ... | 0.497603651941\n",
        "    wal |         F | 0.500334736855 | ... | 0.495669653057\n",
        "    wal |         H | 0.499665263145 | ... | 0.504330346943\n",
        "    bru |         F | 0.491675959359 | ... | 0.505307119626\n",
        "    bru |         H | 0.508324040641 | ... | 0.494692880374\n",
        "belgium |         F | 0.502789324601 | ... | 0.499255065951\n",
        "belgium |         H | 0.497210675399 | ... | 0.500744934049"
       ]
      }
     ],
     "prompt_number": 30
    }
   ],
   "metadata": {}
  }
 ]
}