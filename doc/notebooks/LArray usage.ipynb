{
 "cells": [
  {
   "cell_type": "code",
   "execution_count": 2,
   "metadata": {
    "collapsed": false
   },
   "outputs": [],
   "source": [
    "from larray import *"
   ]
  },
  {
   "cell_type": "markdown",
   "metadata": {},
   "source": [
    "## Loading"
   ]
  },
  {
   "cell_type": "code",
   "execution_count": 3,
   "metadata": {
    "collapsed": false
   },
   "outputs": [],
   "source": [
    "a = read_csv('test.csv')"
   ]
  },
  {
   "cell_type": "code",
   "execution_count": 4,
   "metadata": {
    "collapsed": false
   },
   "outputs": [
    {
     "data": {
      "text/plain": [
       "\n",
       "age | geo | sex\\lipro |             P01 | ... |            P15\n",
       "  0 | A11 |         F |  0.444719251373 | ... | 0.857357338422\n",
       "  0 | A11 |         H |  0.190309636993 | ... |  0.14832969697\n",
       "  0 | A12 |         F |  0.525551565311 | ... | 0.318208198697\n",
       "  0 | A12 |         H |  0.238886570471 | ... | 0.319796432449\n",
       "  0 | A13 |         F |  0.392189019207 | ... | 0.574969923834\n",
       "... | ... |       ... |             ... | ... |            ...\n",
       "115 | A91 |         H |  0.391566460037 | ... | 0.728229419264\n",
       "115 | A92 |         F | 0.0744904918105 | ... | 0.818109781716\n",
       "115 | A92 |         H |  0.110161927992 | ... |  0.71327740658\n",
       "115 | A93 |         F |  0.260923731957 | ... | 0.277366470012\n",
       "115 | A93 |         H | 0.0968159351789 | ... |  0.32785443685"
      ]
     },
     "execution_count": 4,
     "metadata": {},
     "output_type": "execute_result"
    }
   ],
   "source": [
    "a"
   ]
  },
  {
   "cell_type": "code",
   "execution_count": 5,
   "metadata": {
    "collapsed": false
   },
   "outputs": [
    {
     "data": {
      "text/plain": [
       "\n",
       "age | geo | sex\\lipro |             P01 | ... |             P15\n",
       "  0 | A11 |         H |  0.190309636993 | ... |   0.14832969697\n",
       "  0 | A11 |         F |  0.444719251373 | ... |  0.857357338422\n",
       "  0 | A12 |         H |  0.238886570471 | ... |  0.319796432449\n",
       "  0 | A12 |         F |  0.525551565311 | ... |  0.318208198697\n",
       "  0 | A13 |         H |  0.996500945466 | ... | 0.0680649644884\n",
       "... | ... |       ... |             ... | ... |             ...\n",
       "115 | A92 |         F | 0.0744904918105 | ... |  0.818109781716\n",
       "115 | A93 |         H | 0.0968159351789 | ... |   0.32785443685\n",
       "115 | A93 |         F |  0.260923731957 | ... |  0.277366470012\n",
       "115 | A21 |         H |  0.647621552761 | ... | 0.0584404925351\n",
       "115 | A21 |         F |  0.583489886972 | ... | 0.0380375565898"
      ]
     },
     "execution_count": 5,
     "metadata": {},
     "output_type": "execute_result"
    }
   ],
   "source": [
    "read_csv('test.csv', sort_rows=False) # this is less efficient"
   ]
  },
  {
   "cell_type": "code",
   "execution_count": 6,
   "metadata": {
    "collapsed": false
   },
   "outputs": [
    {
     "data": {
      "text/plain": [
       "116 x 44 x 2 x 15\n",
       " age [116]: 0 1 2 ... 113 114 115\n",
       " geo [44]: 'A11' 'A12' 'A13' ... 'A91' 'A92' 'A93'\n",
       " sex [2]: 'F' 'H'\n",
       " lipro [15]: 'P01' 'P02' 'P03' ... 'P13' 'P14' 'P15'"
      ]
     },
     "execution_count": 6,
     "metadata": {},
     "output_type": "execute_result"
    }
   ],
   "source": [
    "a.info"
   ]
  },
  {
   "cell_type": "markdown",
   "metadata": {},
   "source": [
    "# Subsets"
   ]
  },
  {
   "cell_type": "code",
   "execution_count": 7,
   "metadata": {
    "collapsed": false
   },
   "outputs": [
    {
     "data": {
      "text/plain": [
       "\n",
       "age | geo\\lipro |             P01 |             P02 |            P03\n",
       " 10 |       A11 |  0.535583193122 |  0.907643374199 | 0.543002311716\n",
       " 10 |       A12 |  0.903291912629 | 0.0572099558245 | 0.582381520479\n",
       " 10 |       A13 |  0.469461685932 | 0.0670163452205 |  0.55629091369\n",
       " 10 |       A21 |    0.9734778082 |  0.317804797686 | 0.166550538449\n",
       " 10 |       A23 |  0.478404146288 |  0.491018325693 | 0.559592793556\n",
       "... |       ... |             ... |             ... |            ...\n",
       " 19 |       A84 |   0.80883179013 |  0.992894544001 | 0.044995377724\n",
       " 19 |       A85 | 0.0572309653153 |  0.970772472985 | 0.580846330739\n",
       " 19 |       A91 |  0.604907113218 |  0.765298653884 | 0.215328975058\n",
       " 19 |       A92 |  0.277793215869 | 0.0874388749842 | 0.933196289014\n",
       " 19 |       A93 |  0.451208013092 |   0.37275177365 | 0.528825043318"
      ]
     },
     "execution_count": 7,
     "metadata": {},
     "output_type": "execute_result"
    }
   ],
   "source": [
    "a.filter(age=slice(10, 19), sex='F', lipro=':P03')"
   ]
  },
  {
   "cell_type": "code",
   "execution_count": 8,
   "metadata": {
    "collapsed": false
   },
   "outputs": [],
   "source": [
    "age, geo, sex, lipro = a.axes"
   ]
  },
  {
   "cell_type": "code",
   "execution_count": 9,
   "metadata": {
    "collapsed": false
   },
   "outputs": [
    {
     "data": {
      "text/plain": [
       "\n",
       "age | geo\\lipro |             P01 |             P02 |            P03\n",
       " 10 |       A11 |  0.535583193122 |  0.907643374199 | 0.543002311716\n",
       " 10 |       A12 |  0.903291912629 | 0.0572099558245 | 0.582381520479\n",
       " 10 |       A13 |  0.469461685932 | 0.0670163452205 |  0.55629091369\n",
       " 10 |       A21 |    0.9734778082 |  0.317804797686 | 0.166550538449\n",
       " 10 |       A23 |  0.478404146288 |  0.491018325693 | 0.559592793556\n",
       "... |       ... |             ... |             ... |            ...\n",
       " 19 |       A84 |   0.80883179013 |  0.992894544001 | 0.044995377724\n",
       " 19 |       A85 | 0.0572309653153 |  0.970772472985 | 0.580846330739\n",
       " 19 |       A91 |  0.604907113218 |  0.765298653884 | 0.215328975058\n",
       " 19 |       A92 |  0.277793215869 | 0.0874388749842 | 0.933196289014\n",
       " 19 |       A93 |  0.451208013092 |   0.37275177365 | 0.528825043318"
      ]
     },
     "execution_count": 9,
     "metadata": {},
     "output_type": "execute_result"
    }
   ],
   "source": [
    "a.filter(age=age[10:19], sex='F', lipro=':P03')"
   ]
  },
  {
   "cell_type": "code",
   "execution_count": 10,
   "metadata": {
    "collapsed": false
   },
   "outputs": [
    {
     "data": {
      "text/plain": [
       "10 x 44 x 3\n",
       " age [10]: 10 11 12 ... 17 18 19\n",
       " geo [44]: 'A11' 'A12' 'A13' ... 'A91' 'A92' 'A93'\n",
       " lipro [3]: 'P01' 'P02' 'P03'"
      ]
     },
     "execution_count": 10,
     "metadata": {},
     "output_type": "execute_result"
    }
   ],
   "source": [
    "a[age[10:19], sex['F'], lipro[':P03']].info"
   ]
  },
  {
   "cell_type": "code",
   "execution_count": 11,
   "metadata": {
    "collapsed": false
   },
   "outputs": [
    {
     "data": {
      "text/plain": [
       "\n",
       "geo | age | sex\\lipro |             P01 |             P02 | ... |             P14 |            P15\n",
       "A11 |   0 |         F |  0.444719251373 |  0.104695980838 | ... |  0.952346693326 | 0.857357338422\n",
       "A11 |   0 |         H |  0.190309636993 |  0.335642369715 | ... |   0.23400284437 |  0.14832969697\n",
       "A11 |   1 |         F |  0.559803413008 |  0.351865844638 | ... |  0.967182623016 | 0.877175711338\n",
       "A11 |   1 |         H |  0.327116891552 |  0.484645912432 | ... | 0.0284835154138 | 0.498051650916\n",
       "A11 |   2 |         F |  0.949967449501 |  0.475757094424 | ... |  0.152028652961 | 0.223858387695\n",
       "... | ... |       ... |             ... |             ... | ... |             ... |            ...\n",
       "A93 | 113 |         H |  0.962987092586 |  0.249248428275 | ... |  0.955409495707 | 0.481918008908\n",
       "A93 | 114 |         F |  0.166778419369 |  0.250749041642 | ... |  0.512821101609 | 0.568783082515\n",
       "A93 | 114 |         H |  0.116064691352 |  0.846064135762 | ... |  0.999957770615 | 0.696735430371\n",
       "A93 | 115 |         F |  0.260923731957 |  0.852319460201 | ... |  0.875187588136 | 0.277366470012\n",
       "A93 | 115 |         H | 0.0968159351789 | 0.0533891559548 | ... |  0.605907315105 |  0.32785443685"
      ]
     },
     "execution_count": 11,
     "metadata": {},
     "output_type": "execute_result"
    }
   ],
   "source": [
    "a.transpose('geo', 'age')"
   ]
  },
  {
   "cell_type": "code",
   "execution_count": 12,
   "metadata": {
    "collapsed": false
   },
   "outputs": [],
   "source": [
    "vla = 'A11,A12,A13,A23,A24,A31,A32,A33,A34,A35,A36,A37,A38,A41,A42,' \\\n",
    "      'A43,A44,A45,A46,A71,A72,A73'\n",
    "wal = 'A25,A51,A52,A53,A54,A55,A56,A57,A61,A62,A63,A64,A65,A81,A82,' \\\n",
    "      'A83,A84,A85,A91,A92,A93'\n",
    "bru = 'A21'"
   ]
  },
  {
   "cell_type": "code",
   "execution_count": 13,
   "metadata": {
    "collapsed": false
   },
   "outputs": [
    {
     "data": {
      "text/plain": [
       "\n",
       "age | geo | sex\\lipro |             P01 |             P02 | ... |            P14 |            P15\n",
       "  0 | A11 |         F |  0.444719251373 |  0.104695980838 | ... | 0.952346693326 | 0.857357338422\n",
       "  0 | A11 |         H |  0.190309636993 |  0.335642369715 | ... |  0.23400284437 |  0.14832969697\n",
       "  0 | A12 |         F |  0.525551565311 |   0.76756879464 | ... | 0.195849317134 | 0.318208198697\n",
       "  0 | A12 |         H |  0.238886570471 | 0.0196763224555 | ... | 0.180263285931 | 0.319796432449\n",
       "  0 | A13 |         F |  0.392189019207 |  0.612696515983 | ... | 0.199982435325 | 0.574969923834\n",
       "... | ... |       ... |             ... |             ... | ... |            ... |            ...\n",
       "115 | A71 |         H |  0.966296563913 |  0.543436587821 | ... | 0.556138400773 | 0.889400334367\n",
       "115 | A72 |         F | 0.0415274609052 |  0.712388265628 | ... | 0.954952258212 |  0.24686604991\n",
       "115 | A72 |         H |   0.47467660042 | 0.0887625684572 | ... | 0.876874512088 | 0.598036667603\n",
       "115 | A73 |         F |  0.116741064304 |  0.812163030273 | ... | 0.534641776825 |  0.69228208191\n",
       "115 | A73 |         H |  0.317726256191 |  0.392744829078 | ... | 0.865299389507 | 0.516535714438"
      ]
     },
     "execution_count": 13,
     "metadata": {},
     "output_type": "execute_result"
    }
   ],
   "source": [
    "a[geo[vla]]"
   ]
  },
  {
   "cell_type": "markdown",
   "metadata": {},
   "source": [
    "# Aggregates"
   ]
  },
  {
   "cell_type": "markdown",
   "metadata": {},
   "source": [
    "## full axes"
   ]
  },
  {
   "cell_type": "code",
   "execution_count": 14,
   "metadata": {
    "collapsed": false
   },
   "outputs": [
    {
     "data": {
      "text/plain": [
       "\n",
       "sex\\lipro |           P01 |           P02 | ... |           P14 |           P15\n",
       "        F | 2524.69770789 | 2549.95634634 | ... | 2524.80212436 | 2518.22600648\n",
       "        H | 2547.29881892 | 2587.16877625 | ... | 2565.67249288 | 2588.22747713"
      ]
     },
     "execution_count": 14,
     "metadata": {},
     "output_type": "execute_result"
    }
   ],
   "source": [
    "a.sum(geo, age)"
   ]
  },
  {
   "cell_type": "markdown",
   "metadata": {},
   "source": [
    "## by group"
   ]
  },
  {
   "cell_type": "code",
   "execution_count": 15,
   "metadata": {
    "collapsed": false
   },
   "outputs": [
    {
     "data": {
      "text/plain": [
       "\n",
       "sex\\lipro |           P01 |           P02 | ... |           P14 |           P15\n",
       "        F | 1257.41891451 | 1262.11178447 | ... |  1249.2718058 | 1261.63605388\n",
       "        H | 1258.84650127 | 1282.23536837 | ... | 1269.91668621 | 1301.38479936"
      ]
     },
     "execution_count": 15,
     "metadata": {},
     "output_type": "execute_result"
    }
   ],
   "source": [
    "a.sum(age, geo[vla])"
   ]
  },
  {
   "cell_type": "code",
   "execution_count": 16,
   "metadata": {
    "collapsed": false
   },
   "outputs": [
    {
     "data": {
      "text/plain": [
       "\n",
       "                                                                                    geo | sex\\lipro | ...\n",
       "A11,A12,A13,A23,A24,A31,A32,A33,A34,A35,A36,A37,A38,A41,A42,A43,A44,A45,A46,A71,A72,A73 |         F | ...\n",
       "A11,A12,A13,A23,A24,A31,A32,A33,A34,A35,A36,A37,A38,A41,A42,A43,A44,A45,A46,A71,A72,A73 |         H | ...\n",
       "    A25,A51,A52,A53,A54,A55,A56,A57,A61,A62,A63,A64,A65,A81,A82,A83,A84,A85,A91,A92,A93 |         F | ...\n",
       "    A25,A51,A52,A53,A54,A55,A56,A57,A61,A62,A63,A64,A65,A81,A82,A83,A84,A85,A91,A92,A93 |         H | ...\n",
       "                                                                                    A21 |         F | ...\n",
       "                                                                                    A21 |         H | ..."
      ]
     },
     "execution_count": 16,
     "metadata": {},
     "output_type": "execute_result"
    }
   ],
   "source": [
    "a.sum(age, geo=(vla, wal, bru))"
   ]
  },
  {
   "cell_type": "markdown",
   "metadata": {},
   "source": [
    "## Using named groups"
   ]
  },
  {
   "cell_type": "code",
   "execution_count": 17,
   "metadata": {
    "collapsed": false
   },
   "outputs": [],
   "source": [
    "vla = geo.group(vla, name='Flanders')\n",
    "wal = geo.group(wal, name='wal')\n",
    "bru = geo.group(bru, name='bru')\n",
    "bel = geo.all('belgium')"
   ]
  },
  {
   "cell_type": "code",
   "execution_count": 18,
   "metadata": {
    "collapsed": false
   },
   "outputs": [],
   "source": [
    "b = a.sum(age, geo=(vla, wal, bru, bel))"
   ]
  },
  {
   "cell_type": "code",
   "execution_count": 32,
   "metadata": {
    "collapsed": false
   },
   "outputs": [],
   "source": [
    "agg.to_"
   ]
  },
  {
   "cell_type": "markdown",
   "metadata": {},
   "source": [
    "### Operations on aggregated arrays"
   ]
  },
  {
   "cell_type": "code",
   "execution_count": 20,
   "metadata": {
    "collapsed": false
   },
   "outputs": [],
   "source": [
    "aggvla = agg[vla]"
   ]
  },
  {
   "cell_type": "code",
   "execution_count": 21,
   "metadata": {
    "collapsed": false
   },
   "outputs": [
    {
     "data": {
      "text/plain": [
       "\n",
       "sex\\lipro |           P01 |           P02 | ... |           P14 |           P15\n",
       "        F | 1257.41891451 | 1262.11178447 | ... |  1249.2718058 | 1261.63605388\n",
       "        H | 1258.84650127 | 1282.23536837 | ... | 1269.91668621 | 1301.38479936"
      ]
     },
     "execution_count": 21,
     "metadata": {},
     "output_type": "execute_result"
    }
   ],
   "source": [
    "aggvla"
   ]
  },
  {
   "cell_type": "code",
   "execution_count": 22,
   "metadata": {
    "collapsed": false
   },
   "outputs": [
    {
     "data": {
      "text/plain": [
       "\n",
       "sex\\lipro |       P01,P02 |       P03:P05 |       P07:P11\n",
       "        F | 2519.53069898 | 3834.76571855 | 6383.13302993\n",
       "        H | 2541.08186964 | 3855.37262749 | 6396.31174074"
      ]
     },
     "execution_count": 22,
     "metadata": {},
     "output_type": "execute_result"
    }
   ],
   "source": [
    "aggvla.sum(lipro='P01,P02;P03:P05;P07:P11')"
   ]
  },
  {
   "cell_type": "code",
   "execution_count": 23,
   "metadata": {
    "collapsed": false
   },
   "outputs": [],
   "source": [
    "# does not work yet (no idea why)\n",
    "# aggvla.sum(sex='H;F;H,F')"
   ]
  },
  {
   "cell_type": "code",
   "execution_count": 24,
   "metadata": {
    "collapsed": false
   },
   "outputs": [
    {
     "data": {
      "text/plain": [
       "\n",
       "sex |             F |             H\n",
       "    | 2519.53069898 | 2541.08186964"
      ]
     },
     "execution_count": 24,
     "metadata": {},
     "output_type": "execute_result"
    }
   ],
   "source": [
    "agg[vla, lipro['P01']] + agg[vla, lipro['P02']]"
   ]
  },
  {
   "cell_type": "markdown",
   "metadata": {},
   "source": [
    "# Arithmetic operations"
   ]
  },
  {
   "cell_type": "code",
   "execution_count": 34,
   "metadata": {
    "collapsed": false
   },
   "outputs": [
    {
     "data": {
      "text/plain": [
       "\n",
       "sex\\lipro |           P01 |           P02 | ... |           P14 |           P15\n",
       "        F | 3.28078522152 | 3.29302958834 | ... | 3.25952825337 |  3.2917883394\n",
       "        H | 3.28450999892 |  3.3455348878 | ... | 3.31339368974 | 3.39549848344"
      ]
     },
     "execution_count": 34,
     "metadata": {},
     "output_type": "execute_result"
    }
   ],
   "source": [
    "aggvla / aggvla.sum() * 100"
   ]
  },
  {
   "cell_type": "code",
   "execution_count": 26,
   "metadata": {
    "collapsed": false
   },
   "outputs": [
    {
     "data": {
      "text/plain": [
       "\n",
       "sex\\lipro | P01 | P02 | P03 | P04 | P05 | ... | P11 | P12 | P13 | P14 | P15\n",
       "        F | 2.0 | 2.0 | 2.0 | 2.0 | 2.0 | ... | 2.0 | 2.0 | 2.0 | 2.0 | 2.0\n",
       "        H | 2.0 | 2.0 | 2.0 | 2.0 | 2.0 | ... | 2.0 | 2.0 | 2.0 | 2.0 | 2.0"
      ]
     },
     "execution_count": 26,
     "metadata": {},
     "output_type": "execute_result"
    }
   ],
   "source": [
    "aggvla * 2 / aggvla"
   ]
  },
  {
   "cell_type": "markdown",
   "metadata": {},
   "source": [
    "## on arrays with a different axis order"
   ]
  },
  {
   "cell_type": "code",
   "execution_count": 27,
   "metadata": {
    "collapsed": false
   },
   "outputs": [],
   "source": [
    "t = aggvla.transpose()"
   ]
  },
  {
   "cell_type": "code",
   "execution_count": 28,
   "metadata": {
    "collapsed": false
   },
   "outputs": [
    {
     "data": {
      "text/plain": [
       "\n",
       "lipro\\sex |             F |             H\n",
       "      P01 | 1257.41891451 | 1258.84650127\n",
       "      P02 | 1262.11178447 | 1282.23536837\n",
       "      P03 |  1269.8737265 | 1278.89450299\n",
       "      P04 | 1290.02428115 | 1287.85009927\n",
       "      P05 |  1274.8677109 | 1288.62802523\n",
       "      P06 | 1277.25384401 | 1291.28395492\n",
       "      P07 | 1273.77730123 | 1277.97810064\n",
       "      P08 | 1276.36834354 | 1287.65325021\n",
       "      P09 | 1303.26548186 |  1276.8684769\n",
       "      P10 | 1255.26751446 | 1271.02951343\n",
       "      P11 | 1274.45438884 | 1282.78239956\n",
       "      P12 | 1282.53299787 | 1267.04452183\n",
       "      P13 | 1298.07892426 | 1298.16793633\n",
       "      P14 |  1249.2718058 | 1269.91668621\n",
       "      P15 | 1261.63605388 | 1301.38479936"
      ]
     },
     "execution_count": 28,
     "metadata": {},
     "output_type": "execute_result"
    }
   ],
   "source": [
    "t"
   ]
  },
  {
   "cell_type": "code",
   "execution_count": 29,
   "metadata": {
    "collapsed": false
   },
   "outputs": [
    {
     "data": {
      "text/plain": [
       "\n",
       "sex\\lipro |           P01 |           P02 | ... |           P14 |           P15\n",
       "        F | 2514.83782901 | 2524.22356894 | ... | 2498.54361161 | 2523.27210776\n",
       "        H | 2517.69300253 | 2564.47073674 | ... | 2539.83337242 | 2602.76959872"
      ]
     },
     "execution_count": 29,
     "metadata": {},
     "output_type": "execute_result"
    }
   ],
   "source": [
    "aggvla + t"
   ]
  },
  {
   "cell_type": "markdown",
   "metadata": {},
   "source": [
    "## with missing axes"
   ]
  },
  {
   "cell_type": "code",
   "execution_count": 30,
   "metadata": {
    "collapsed": false
   },
   "outputs": [
    {
     "data": {
      "text/plain": [
       "\n",
       "     geo | sex\\lipro |             P01 | ... |             P15\n",
       "Flanders |         F |             1.0 | ... |             1.0\n",
       "Flanders |         H |             1.0 | ... |             1.0\n",
       "     wal |         F |  0.957174200585 | ... |  0.951101552226\n",
       "     wal |         H |  0.980152428259 | ... |   0.94624573877\n",
       "     bru |         F | 0.0506671629946 | ... | 0.0448987988484\n",
       "     bru |         H |  0.043365781748 | ... | 0.0425799171032\n",
       " belgium |         F |   2.00784136358 | ... |   1.99600035107\n",
       " belgium |         H |   2.02351821001 | ... |   1.98882565587"
      ]
     },
     "execution_count": 30,
     "metadata": {},
     "output_type": "execute_result"
    }
   ],
   "source": [
    "agg / agg[vla]"
   ]
  },
  {
   "cell_type": "code",
   "execution_count": 31,
   "metadata": {
    "collapsed": false
   },
   "outputs": [
    {
     "data": {
      "text/plain": [
       "\n",
       "     geo | sex\\lipro |            P01 | ... |            P15\n",
       "Flanders |         F | 0.499716328263 | ... | 0.492245723356\n",
       "Flanders |         H | 0.500283671737 | ... | 0.507754276644\n",
       "     wal |         F | 0.493785974209 | ... | 0.493525098585\n",
       "     wal |         H | 0.506214025791 | ... | 0.506474901415\n",
       "     bru |         F | 0.538541553694 | ... | 0.505501962023\n",
       "     bru |         H | 0.461458446306 | ... | 0.494498037977\n",
       " belgium |         F | 0.497771970968 | ... | 0.493145783969\n",
       " belgium |         H | 0.502228029032 | ... | 0.506854216031"
      ]
     },
     "execution_count": 31,
     "metadata": {},
     "output_type": "execute_result"
    }
   ],
   "source": [
    "agg / agg.sum(sex)"
   ]
  },
  {
   "cell_type": "code",
   "execution_count": 31,
   "metadata": {
    "collapsed": false
   },
   "outputs": [],
   "source": []
  }
 ],
 "metadata": {
  "celltoolbar": "Raw Cell Format",
  "kernelspec": {
   "display_name": "Python 3",
   "language": "python",
   "name": "python3"
  },
  "language_info": {
   "codemirror_mode": {
    "name": "ipython",
    "version": 3
   },
   "file_extension": ".py",
   "mimetype": "text/x-python",
   "name": "python",
   "nbconvert_exporter": "python",
   "pygments_lexer": "ipython3",
   "version": "3.4.2"
  }
 },
 "nbformat": 4,
 "nbformat_minor": 0
}
